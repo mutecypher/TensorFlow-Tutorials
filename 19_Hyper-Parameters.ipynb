{
 "cells": [
  {
   "cell_type": "markdown",
   "metadata": {},
   "source": [
    "# TensorFlow Tutorial #19\n",
    "# Hyper-Parameter Optimization\n",
    "\n",
    "by [Magnus Erik Hvass Pedersen](http://www.hvass-labs.org/)\n",
    "/ [GitHub](https://github.com/Hvass-Labs/TensorFlow-Tutorials) / [Videos on YouTube](https://www.youtube.com/playlist?list=PL9Hr9sNUjfsl1877BS8m3yt8t_wq2IWji)"
   ]
  },
  {
   "cell_type": "markdown",
   "metadata": {},
   "source": [
    "## Introduction\n",
    "\n",
    "There are many parameters you can select when building and training a Neural Network in TensorFlow. These are often called Hyper-Parameters. For example, there is a hyper-parameter for how many layers the network should have, and another hyper-parameter for how many nodes per layer, and another hyper-parameter for the activation function to use, etc. The optimization method also has one or more hyper-parameters you can select, such as the learning-rate.\n",
    "\n",
    "One way of searching for good hyper-parameters is by hand-tuning, where you try one set of parameters and see how they perform, and then you try another set of parameters and see if they improve the performance. You try and build an intuition for what works well and guide your parameter-search accordingly. Not only is this extremely time-consuming for a human researcher, but the optimal parameters are often counter-intuitive to humans so you will not find them!\n",
    "\n",
    "Another way of searching for good hyper-parameters is to divide each parameter's valid range into evenly spaced values, and then simply have the computer try all combinations of parameter-values. This is called Grid Search. Although it is run entirely by the computer, it quickly becomes extremely time-consuming because the number of parameter-combinations increases exponentially as you add more hyper-parameters. This problem is known as the Curse of Dimensionality. For example, if you have just 4 hyper-parameters to tune and each of them is allowed 10 possible values, then there is a total of 10^4 parameter-combinations. If you add just one more hyper-parameter then there are 10^5 parameter-combinations, and so on.\n",
    "\n",
    "Yet another way of searching for good hyper-parameters is by random search. Instead of systematically trying every single parameter-combination as in Grid Search, we now try a number of parameter-combinations completely at random. This is like searching for \"a needle in a haystack\" and as the number of parameters increases, the probability of finding the optimal parameter-combinations by random sampling decreases to zero.\n",
    "\n",
    "This tutorial uses a clever method for finding good hyper-parameters known as Bayesian Optimization. You should be familiar with TensorFlow, Keras and Convolutional Neural Networks, see Tutorials #01, #02 and #03-C."
   ]
  },
  {
   "cell_type": "markdown",
   "metadata": {},
   "source": [
    "## Flowchart\n",
    "\n",
    "The problem with hyper-parameter optimization is that it is extremely costly to assess the performance of a set of parameters. This is because we first have to build the corresponding neural network, then we have to train it, and finally we have to measure its performance on a test-set. In this tutorial we will use the small MNIST problem so this training can be done very quickly, but on more realistic problems the training may take hours, days or even weeks on a very fast computer. So we need an optimization method that can search for hyper-parameters as efficiently as possible, by only evaluating the actual performance when absolutely necessary.\n",
    "\n",
    "The idea with Bayesian optimization is to construct another model of the search-space for hyper-parameters. One kind of model is known as a Gaussian Process. This gives us an estimate of how the performance varies with changes to the hyper-parameters. Whenever we evaluate the actual performance for a set of hyper-parameters, we know for a fact what the performance is - except perhaps for some noise. We can then ask the Bayesian optimizer to give us a new suggestion for hyper-parameters in a region of the search-space that we haven't explored yet, or hyper-parameters that the Bayesian optimizer thinks will bring us most improvement. We then repeat this process a number of times until the Bayesian optimizer has built a good model of how the performance varies with different hyper-parameters, so we can choose the best parameters.\n",
    "\n",
    "The flowchart of the algorithm is roughly:\n",
    "\n",
    "![Flowchart](images/19_flowchart_bayesian_optimization.png)"
   ]
  },
  {
   "cell_type": "markdown",
   "metadata": {},
   "source": [
    "## Imports"
   ]
  },
  {
   "cell_type": "code",
   "execution_count": 5,
   "metadata": {},
   "outputs": [],
   "source": [
    "%matplotlib inline\n",
    "import matplotlib.pyplot as plt\n",
    "import tensorflow as tf\n",
    "import numpy as np\n",
    "import math"
   ]
  },
  {
   "cell_type": "markdown",
   "metadata": {},
   "source": [
    "We need to import several things from Keras."
   ]
  },
  {
   "cell_type": "code",
   "execution_count": 6,
   "metadata": {},
   "outputs": [],
   "source": [
    "from tensorflow.keras import backend as K\n",
    "from tensorflow.keras.models import Sequential\n",
    "from tensorflow.keras.layers import InputLayer, Input\n",
    "from tensorflow.keras.layers import Reshape, MaxPooling2D\n",
    "from tensorflow.keras.layers import Conv2D, Dense, Flatten\n",
    "from tensorflow.keras.callbacks import TensorBoard\n",
    "from tensorflow.keras.optimizers import Adam\n",
    "from tensorflow.keras.models import load_model"
   ]
  },
  {
   "cell_type": "markdown",
   "metadata": {},
   "source": [
    "**NOTE:** We will save and load models using Keras so you need to have [h5py](http://docs.h5py.org/en/latest/build.html#install) installed. You also need to have [scikit-optimize](https://scikit-optimize.github.io/) installed for doing the hyper-parameter optimization.\n",
    "\n",
    "You should be able to run the following command in a terminal to install them both:\n",
    "\n",
    "`pip install h5py scikit-optimize`"
   ]
  },
  {
   "cell_type": "markdown",
   "metadata": {},
   "source": [
    "**NOTE:** This Notebook requires plotting functions in `scikit-optimize` that have not been merged into the official release at the time of this writing. If this Notebook cannot run with the version of `scikit-optimize` installed by the command above, you may have to install `scikit-optimize` from a development branch by running the following command instead:\n",
    "\n",
    "`pip install git+git://github.com/Hvass-Labs/scikit-optimize.git@dd7433da068b5a2509ef4ea4e5195458393e6555`"
   ]
  },
  {
   "cell_type": "code",
   "execution_count": 7,
   "metadata": {},
   "outputs": [],
   "source": [
    "import skopt\n",
    "from skopt import gp_minimize, forest_minimize\n",
    "from skopt.space import Real, Categorical, Integer\n",
    "from skopt.plots import plot_convergence\n",
    "from skopt.plots import plot_objective, plot_evaluations\n",
    "from skopt.plots import plot_histogram, plot_objective_2D\n",
    "from skopt.utils import use_named_args"
   ]
  },
  {
   "cell_type": "markdown",
   "metadata": {},
   "source": [
    "This was developed using Python 3.6 (Anaconda) and package versions:"
   ]
  },
  {
   "cell_type": "code",
   "execution_count": 8,
   "metadata": {
    "scrolled": false
   },
   "outputs": [
    {
     "data": {
      "text/plain": [
       "'2.3.1'"
      ]
     },
     "execution_count": 8,
     "metadata": {},
     "output_type": "execute_result"
    }
   ],
   "source": [
    "tf.__version__"
   ]
  },
  {
   "cell_type": "code",
   "execution_count": 9,
   "metadata": {},
   "outputs": [
    {
     "data": {
      "text/plain": [
       "'2.4.0'"
      ]
     },
     "execution_count": 9,
     "metadata": {},
     "output_type": "execute_result"
    }
   ],
   "source": [
    "tf.keras.__version__"
   ]
  },
  {
   "cell_type": "code",
   "execution_count": 10,
   "metadata": {
    "scrolled": true
   },
   "outputs": [
    {
     "data": {
      "text/plain": [
       "'0.8.1'"
      ]
     },
     "execution_count": 10,
     "metadata": {},
     "output_type": "execute_result"
    }
   ],
   "source": [
    "skopt.__version__"
   ]
  },
  {
   "cell_type": "markdown",
   "metadata": {},
   "source": [
    "## Hyper-Parameters\n",
    "\n",
    "In this tutorial we want to find the hyper-parametes that makes a simple Convolutional Neural Network perform best at classifying the MNIST dataset for hand-written digits.\n",
    "\n",
    "For this demonstration we want to find the following hyper-parameters:\n",
    "\n",
    "* The learning-rate of the optimizer.\n",
    "* The number of fully-connected / dense layers.\n",
    "* The number of nodes for each of the dense layers.\n",
    "* Whether to use 'sigmoid' or 'relu' activation in all the layers.\n",
    "\n",
    "We will use the Python package `scikit-optimize` (or `skopt`) for finding the best choices of these hyper-parameters. Before we begin with the actual search for hyper-parameters, we first need to define the valid search-ranges or search-dimensions for each of these parameters.\n",
    "\n",
    "This is the search-dimension for the learning-rate. It is a real number (floating-point) with a lower bound of `1e-6` and an upper bound of `1e-2`. But instead of searching between these bounds directly, we use a logarithmic transformation, so we will search for the number `k` in `1ek` which is only bounded between -6 and -2. This is better than searching the entire exponential range."
   ]
  },
  {
   "cell_type": "code",
   "execution_count": 11,
   "metadata": {},
   "outputs": [],
   "source": [
    "dim_learning_rate = Real(low=1e-6, high=1e-2, prior='log-uniform',\n",
    "                         name='learning_rate')"
   ]
  },
  {
   "cell_type": "markdown",
   "metadata": {},
   "source": [
    "This is the search-dimension for the number of dense layers in the neural network. This is an integer and we want at least 1 dense layer and at most 5 dense layers in the neural network."
   ]
  },
  {
   "cell_type": "code",
   "execution_count": 12,
   "metadata": {},
   "outputs": [],
   "source": [
    "dim_num_dense_layers = Integer(low=1, high=5, name='num_dense_layers')"
   ]
  },
  {
   "cell_type": "markdown",
   "metadata": {},
   "source": [
    "This is the search-dimension for the number of nodes for each dense layer. This is also an integer and we want at least 5 and at most 512 nodes in each layer of the neural network."
   ]
  },
  {
   "cell_type": "code",
   "execution_count": 13,
   "metadata": {},
   "outputs": [],
   "source": [
    "dim_num_dense_nodes = Integer(low=5, high=512, name='num_dense_nodes')"
   ]
  },
  {
   "cell_type": "markdown",
   "metadata": {},
   "source": [
    "This is the search-dimension for the activation-function. This is a combinatorial or categorical parameter which can be either 'relu' or 'sigmoid'."
   ]
  },
  {
   "cell_type": "code",
   "execution_count": 14,
   "metadata": {},
   "outputs": [],
   "source": [
    "dim_activation = Categorical(categories=['relu', 'sigmoid'],\n",
    "                             name='activation')"
   ]
  },
  {
   "cell_type": "markdown",
   "metadata": {},
   "source": [
    "We then combine all these search-dimensions into a list."
   ]
  },
  {
   "cell_type": "code",
   "execution_count": 15,
   "metadata": {},
   "outputs": [],
   "source": [
    "dimensions = [dim_learning_rate,\n",
    "              dim_num_dense_layers,\n",
    "              dim_num_dense_nodes,\n",
    "              dim_activation]"
   ]
  },
  {
   "cell_type": "markdown",
   "metadata": {},
   "source": [
    "It is helpful to start the search for hyper-parameters with a decent choice that we have found by hand-tuning. But we will use the following parameters that do not perform so well, so as to better demonstrate the usefulness of hyper-parameter optimization: A learning-rate of 1e-5, a single dense layer with 16 nodes, and relu activation-functions.\n",
    "\n",
    "Note that these hyper-parameters are packed in a single list. This is how `skopt` works internally on hyper-parameters. You therefore need to ensure that the order of the dimensions are consistent with the order given in `dimensions` above."
   ]
  },
  {
   "cell_type": "code",
   "execution_count": 16,
   "metadata": {},
   "outputs": [],
   "source": [
    "default_parameters = [1e-5, 1, 16, 'relu']"
   ]
  },
  {
   "cell_type": "markdown",
   "metadata": {},
   "source": [
    "### Helper-function for log-dir-name\n",
    "\n",
    "We will log the training-progress for all parameter-combinations so they can be viewed and compared using TensorBoard. This is done by setting a common parent-dir and then have a sub-dir for each parameter-combination with an appropriate name."
   ]
  },
  {
   "cell_type": "code",
   "execution_count": 17,
   "metadata": {},
   "outputs": [],
   "source": [
    "def log_dir_name(learning_rate, num_dense_layers,\n",
    "                 num_dense_nodes, activation):\n",
    "\n",
    "    # The dir-name for the TensorBoard log-dir.\n",
    "    s = \"./19_logs/lr_{0:.0e}_layers_{1}_nodes_{2}_{3}/\"\n",
    "\n",
    "    # Insert all the hyper-parameters in the dir-name.\n",
    "    log_dir = s.format(learning_rate,\n",
    "                       num_dense_layers,\n",
    "                       num_dense_nodes,\n",
    "                       activation)\n",
    "\n",
    "    return log_dir"
   ]
  },
  {
   "cell_type": "markdown",
   "metadata": {},
   "source": [
    "## Load Data"
   ]
  },
  {
   "cell_type": "markdown",
   "metadata": {},
   "source": [
    "The MNIST data-set is about 12 MB and will be downloaded automatically if it is not located in the given dir."
   ]
  },
  {
   "cell_type": "code",
   "execution_count": 18,
   "metadata": {},
   "outputs": [
    {
     "name": "stdout",
     "output_type": "stream",
     "text": [
      "Downloading train-images-idx3-ubyte.gz ...\n",
      "- Download progress: 100.0% Done!\n",
      "Downloading train-labels-idx1-ubyte.gz ...\n",
      "- Download progress: 100.0% Done!\n",
      "Downloading t10k-images-idx3-ubyte.gz ...\n",
      "- Download progress: 100.0% Done!\n",
      "Downloading t10k-labels-idx1-ubyte.gz ...\n",
      "- Download progress: 100.0% Done!\n"
     ]
    }
   ],
   "source": [
    "from mnist import MNIST\n",
    "data = MNIST(data_dir=\"data/MNIST/\")"
   ]
  },
  {
   "cell_type": "markdown",
   "metadata": {},
   "source": [
    "The MNIST data-set has now been loaded and consists of 70.000 images and class-numbers for the images. The data-set is split into 3 mutually exclusive sub-sets. We will only use the training and test-sets in this tutorial."
   ]
  },
  {
   "cell_type": "code",
   "execution_count": 19,
   "metadata": {},
   "outputs": [
    {
     "name": "stdout",
     "output_type": "stream",
     "text": [
      "Size of:\n",
      "- Training-set:\t\t55000\n",
      "- Validation-set:\t5000\n",
      "- Test-set:\t\t10000\n"
     ]
    }
   ],
   "source": [
    "print(\"Size of:\")\n",
    "print(\"- Training-set:\\t\\t{}\".format(data.num_train))\n",
    "print(\"- Validation-set:\\t{}\".format(data.num_val))\n",
    "print(\"- Test-set:\\t\\t{}\".format(data.num_test))"
   ]
  },
  {
   "cell_type": "markdown",
   "metadata": {},
   "source": [
    "Copy some of the data-dimensions for convenience."
   ]
  },
  {
   "cell_type": "code",
   "execution_count": 20,
   "metadata": {},
   "outputs": [],
   "source": [
    "# The number of pixels in each dimension of an image.\n",
    "img_size = data.img_size\n",
    "\n",
    "# The images are stored in one-dimensional arrays of this length.\n",
    "img_size_flat = data.img_size_flat\n",
    "\n",
    "# Tuple with height and width of images used to reshape arrays.\n",
    "img_shape = data.img_shape\n",
    "\n",
    "# Tuple with height, width and depth used to reshape arrays.\n",
    "# This is used for reshaping in Keras.\n",
    "img_shape_full = data.img_shape_full\n",
    "\n",
    "# Number of classes, one class for each of 10 digits.\n",
    "num_classes = data.num_classes\n",
    "\n",
    "# Number of colour channels for the images: 1 channel for gray-scale.\n",
    "num_channels = data.num_channels"
   ]
  },
  {
   "cell_type": "markdown",
   "metadata": {},
   "source": [
    "We use the performance on the validation-set as an indication of which choice of hyper-parameters performs the best on previously unseen data. The Keras API needs the validation-set as a tuple."
   ]
  },
  {
   "cell_type": "code",
   "execution_count": 21,
   "metadata": {},
   "outputs": [],
   "source": [
    "validation_data = (data.x_val, data.y_val)"
   ]
  },
  {
   "cell_type": "markdown",
   "metadata": {},
   "source": [
    "### Helper-function for plotting images"
   ]
  },
  {
   "cell_type": "markdown",
   "metadata": {},
   "source": [
    "Function used to plot 9 images in a 3x3 grid, and writing the true and predicted classes below each image."
   ]
  },
  {
   "cell_type": "code",
   "execution_count": 22,
   "metadata": {},
   "outputs": [],
   "source": [
    "def plot_images(images, cls_true, cls_pred=None):\n",
    "    assert len(images) == len(cls_true) == 9\n",
    "    \n",
    "    # Create figure with 3x3 sub-plots.\n",
    "    fig, axes = plt.subplots(3, 3)\n",
    "    fig.subplots_adjust(hspace=0.3, wspace=0.3)\n",
    "\n",
    "    for i, ax in enumerate(axes.flat):\n",
    "        # Plot image.\n",
    "        ax.imshow(images[i].reshape(img_shape), cmap='binary')\n",
    "\n",
    "        # Show true and predicted classes.\n",
    "        if cls_pred is None:\n",
    "            xlabel = \"True: {0}\".format(cls_true[i])\n",
    "        else:\n",
    "            xlabel = \"True: {0}, Pred: {1}\".format(cls_true[i], cls_pred[i])\n",
    "\n",
    "        # Show the classes as the label on the x-axis.\n",
    "        ax.set_xlabel(xlabel)\n",
    "        \n",
    "        # Remove ticks from the plot.\n",
    "        ax.set_xticks([])\n",
    "        ax.set_yticks([])\n",
    "    \n",
    "    # Ensure the plot is shown correctly with multiple plots\n",
    "    # in a single Notebook cell.\n",
    "    plt.show()"
   ]
  },
  {
   "cell_type": "markdown",
   "metadata": {},
   "source": [
    "### Plot a few images to see if data is correct"
   ]
  },
  {
   "cell_type": "code",
   "execution_count": 23,
   "metadata": {},
   "outputs": [
    {
     "data": {
      "image/png": "[encoded data removed]",
      "text/plain": [
       "<Figure size 432x288 with 9 Axes>"
      ]
     },
     "metadata": {},
     "output_type": "display_data"
    }
   ],
   "source": [
    "# Get the first images from the test-set.\n",
    "images = data.x_test[0:9]\n",
    "\n",
    "# Get the true classes for those images.\n",
    "cls_true = data.y_test_cls[0:9]\n",
    "\n",
    "# Plot the images and labels using our helper-function above.\n",
    "plot_images(images=images, cls_true=cls_true)"
   ]
  },
  {
   "cell_type": "markdown",
   "metadata": {},
   "source": [
    "### Helper-function to plot example errors\n",
    "\n",
    "Function for plotting examples of images from the test-set that have been mis-classified."
   ]
  },
  {
   "cell_type": "code",
   "execution_count": 24,
   "metadata": {},
   "outputs": [],
   "source": [
    "def plot_example_errors(cls_pred):\n",
    "    # cls_pred is an array of the predicted class-number for\n",
    "    # all images in the test-set.\n",
    "\n",
    "    # Boolean array whether the predicted class is incorrect.\n",
    "    incorrect = (cls_pred != data.y_test_cls)\n",
    "\n",
    "    # Get the images from the test-set that have been\n",
    "    # incorrectly classified.\n",
    "    images = data.x_test[incorrect]\n",
    "    \n",
    "    # Get the predicted classes for those images.\n",
    "    cls_pred = cls_pred[incorrect]\n",
    "\n",
    "    # Get the true classes for those images.\n",
    "    cls_true = data.y_test_cls[incorrect]\n",
    "    \n",
    "    # Plot the first 9 images.\n",
    "    plot_images(images=images[0:9],\n",
    "                cls_true=cls_true[0:9],\n",
    "                cls_pred=cls_pred[0:9])"
   ]
  },
  {
   "cell_type": "markdown",
   "metadata": {},
   "source": [
    "## Hyper-Parameter Optimization\n",
    "\n",
    "There are several steps required to do hyper-parameter optimization.\n",
    "\n",
    "### Create the Model\n",
    "\n",
    "We first need a function that takes a set of hyper-parameters and creates the Convolutional Neural Network corresponding to those parameters. We use Keras to build the neural network in TensorFlow, see Tutorial #03-C for more details."
   ]
  },
  {
   "cell_type": "code",
   "execution_count": 25,
   "metadata": {
    "scrolled": true
   },
   "outputs": [],
   "source": [
    "def create_model(learning_rate, num_dense_layers,\n",
    "                 num_dense_nodes, activation):\n",
    "    \"\"\"\n",
    "    Hyper-parameters:\n",
    "    learning_rate:     Learning-rate for the optimizer.\n",
    "    num_dense_layers:  Number of dense layers.\n",
    "    num_dense_nodes:   Number of nodes in each dense layer.\n",
    "    activation:        Activation function for all layers.\n",
    "    \"\"\"\n",
    "    \n",
    "    # Start construction of a Keras Sequential model.\n",
    "    model = Sequential()\n",
    "\n",
    "    # Add an input layer which is similar to a feed_dict in TensorFlow.\n",
    "    # Note that the input-shape must be a tuple containing the image-size.\n",
    "    model.add(InputLayer(input_shape=(img_size_flat,)))\n",
    "\n",
    "    # The input from MNIST is a flattened array with 784 elements,\n",
    "    # but the convolutional layers expect images with shape (28, 28, 1)\n",
    "    model.add(Reshape(img_shape_full))\n",
    "\n",
    "    # First convolutional layer.\n",
    "    # There are many hyper-parameters in this layer, but we only\n",
    "    # want to optimize the activation-function in this example.\n",
    "    model.add(Conv2D(kernel_size=5, strides=1, filters=16, padding='same',\n",
    "                     activation=activation, name='layer_conv1'))\n",
    "    model.add(MaxPooling2D(pool_size=2, strides=2))\n",
    "\n",
    "    # Second convolutional layer.\n",
    "    # Again, we only want to optimize the activation-function here.\n",
    "    model.add(Conv2D(kernel_size=5, strides=1, filters=36, padding='same',\n",
    "                     activation=activation, name='layer_conv2'))\n",
    "    model.add(MaxPooling2D(pool_size=2, strides=2))\n",
    "\n",
    "    # Flatten the 4-rank output of the convolutional layers\n",
    "    # to 2-rank that can be input to a fully-connected / dense layer.\n",
    "    model.add(Flatten())\n",
    "\n",
    "    # Add fully-connected / dense layers.\n",
    "    # The number of layers is a hyper-parameter we want to optimize.\n",
    "    for i in range(num_dense_layers):\n",
    "        # Name of the layer. This is not really necessary\n",
    "        # because Keras should give them unique names.\n",
    "        name = 'layer_dense_{0}'.format(i+1)\n",
    "\n",
    "        # Add the dense / fully-connected layer to the model.\n",
    "        # This has two hyper-parameters we want to optimize:\n",
    "        # The number of nodes and the activation function.\n",
    "        model.add(Dense(num_dense_nodes,\n",
    "                        activation=activation,\n",
    "                        name=name))\n",
    "\n",
    "    # Last fully-connected / dense layer with softmax-activation\n",
    "    # for use in classification.\n",
    "    model.add(Dense(num_classes, activation='softmax'))\n",
    "    \n",
    "    # Use the Adam method for training the network.\n",
    "    # We want to find the best learning-rate for the Adam method.\n",
    "    optimizer = Adam(lr=learning_rate)\n",
    "    \n",
    "    # In Keras we need to compile the model so it can be trained.\n",
    "    model.compile(optimizer=optimizer,\n",
    "                  loss='categorical_crossentropy',\n",
    "                  metrics=['accuracy'])\n",
    "    \n",
    "    return model"
   ]
  },
  {
   "cell_type": "markdown",
   "metadata": {},
   "source": [
    "### Train and Evaluate the Model\n",
    "\n",
    "The neural network with the best hyper-parameters is saved to disk so it can be reloaded later. This is the filename for the model."
   ]
  },
  {
   "cell_type": "code",
   "execution_count": 26,
   "metadata": {},
   "outputs": [],
   "source": [
    "path_best_model = '19_best_model.h5'"
   ]
  },
  {
   "cell_type": "markdown",
   "metadata": {},
   "source": [
    "This is the classification accuracy for the model saved to disk. It is a global variable which will be updated during optimization of the hyper-parameters."
   ]
  },
  {
   "cell_type": "code",
   "execution_count": 27,
   "metadata": {},
   "outputs": [],
   "source": [
    "best_accuracy = 0.0"
   ]
  },
  {
   "cell_type": "markdown",
   "metadata": {},
   "source": [
    "This is the function that creates and trains a neural network with the given hyper-parameters, and then evaluates its performance on the validation-set. The function then returns the so-called fitness value (aka. objective value), which is the negative classification accuracy on the validation-set. It is negative because `skopt` performs minimization instead of maximization.\n",
    "\n",
    "Note the function decorator `@use_named_args` which wraps the fitness function so that it can be called with all the parameters as a single list, for example: `fitness(x=[1e-4, 3, 256, 'relu'])`. This is the calling-style `skopt` uses internally."
   ]
  },
  {
   "cell_type": "code",
   "execution_count": 28,
   "metadata": {},
   "outputs": [],
   "source": [
    "@use_named_args(dimensions=dimensions)\n",
    "def fitness(learning_rate, num_dense_layers,\n",
    "            num_dense_nodes, activation):\n",
    "    \"\"\"\n",
    "    Hyper-parameters:\n",
    "    learning_rate:     Learning-rate for the optimizer.\n",
    "    num_dense_layers:  Number of dense layers.\n",
    "    num_dense_nodes:   Number of nodes in each dense layer.\n",
    "    activation:        Activation function for all layers.\n",
    "    \"\"\"\n",
    "\n",
    "    # Print the hyper-parameters.\n",
    "    print('learning rate: {0:.1e}'.format(learning_rate))\n",
    "    print('num_dense_layers:', num_dense_layers)\n",
    "    print('num_dense_nodes:', num_dense_nodes)\n",
    "    print('activation:', activation)\n",
    "    print()\n",
    "    \n",
    "    # Create the neural network with these hyper-parameters.\n",
    "    model = create_model(learning_rate=learning_rate,\n",
    "                         num_dense_layers=num_dense_layers,\n",
    "                         num_dense_nodes=num_dense_nodes,\n",
    "                         activation=activation)\n",
    "\n",
    "    # Dir-name for the TensorBoard log-files.\n",
    "    log_dir = log_dir_name(learning_rate, num_dense_layers,\n",
    "                           num_dense_nodes, activation)\n",
    "    \n",
    "    # Create a callback-function for Keras which will be\n",
    "    # run after each epoch has ended during training.\n",
    "    # This saves the log-files for TensorBoard.\n",
    "    # Note that there are complications when histogram_freq=1.\n",
    "    # It might give strange errors and it also does not properly\n",
    "    # support Keras data-generators for the validation-set.\n",
    "    callback_log = TensorBoard(\n",
    "        log_dir=log_dir,\n",
    "        histogram_freq=0,\n",
    "        write_graph=True,\n",
    "        write_grads=False,\n",
    "        write_images=False)\n",
    "   \n",
    "    # Use Keras to train the model.\n",
    "    history = model.fit(x=data.x_train,\n",
    "                        y=data.y_train,\n",
    "                        epochs=3,\n",
    "                        batch_size=128,\n",
    "                        validation_data=validation_data,\n",
    "                        callbacks=[callback_log])\n",
    "\n",
    "    # Get the classification accuracy on the validation-set\n",
    "    # after the last training-epoch.\n",
    "    accuracy = history.history['val_accuracy'][-1]\n",
    "\n",
    "    # Print the classification accuracy.\n",
    "    print()\n",
    "    print(\"Accuracy: {0:.2%}\".format(accuracy))\n",
    "    print()\n",
    "\n",
    "    # Save the model if it improves on the best-found performance.\n",
    "    # We use the global keyword so we update the variable outside\n",
    "    # of this function.\n",
    "    global best_accuracy\n",
    "\n",
    "    # If the classification accuracy of the saved model is improved ...\n",
    "    if accuracy > best_accuracy:\n",
    "        # Save the new model to harddisk.\n",
    "        model.save(path_best_model)\n",
    "        \n",
    "        # Update the classification accuracy.\n",
    "        best_accuracy = accuracy\n",
    "\n",
    "    # Delete the Keras model with these hyper-parameters from memory.\n",
    "    del model\n",
    "    \n",
    "    # Clear the Keras session, otherwise it will keep adding new\n",
    "    # models to the same TensorFlow graph each time we create\n",
    "    # a model with a different set of hyper-parameters.\n",
    "    K.clear_session()\n",
    "    \n",
    "    # NOTE: Scikit-optimize does minimization so it tries to\n",
    "    # find a set of hyper-parameters with the LOWEST fitness-value.\n",
    "    # Because we are interested in the HIGHEST classification\n",
    "    # accuracy, we need to negate this number so it can be minimized.\n",
    "    return -accuracy"
   ]
  },
  {
   "cell_type": "markdown",
   "metadata": {},
   "source": [
    "### Test Run\n",
    "\n",
    "Before we run the hyper-parameter optimization, let us first check that the various functions above actually work, when we pass the default hyper-parameters."
   ]
  },
  {
   "cell_type": "code",
   "execution_count": 29,
   "metadata": {
    "scrolled": false
   },
   "outputs": [
    {
     "name": "stdout",
     "output_type": "stream",
     "text": [
      "learning rate: 1.0e-05\n",
      "num_dense_layers: 1\n",
      "num_dense_nodes: 16\n",
      "activation: relu\n",
      "\n",
      "Epoch 1/3\n",
      "  1/430 [..............................] - ETA: 0s - loss: 2.3075 - accuracy: 0.0625WARNING:tensorflow:From /Users/mutecypher/anaconda3/lib/python3.7/site-packages/tensorflow/python/ops/summary_ops_v2.py:1277: stop (from tensorflow.python.eager.profiler) is deprecated and will be removed after 2020-07-01.\n",
      "Instructions for updating:\n",
      "use `tf.profiler.experimental.stop` instead.\n",
      "430/430 [==============================] - 14s 33ms/step - loss: 2.2625 - accuracy: 0.1572 - val_loss: 2.1859 - val_accuracy: 0.2430\n",
      "Epoch 2/3\n",
      "430/430 [==============================] - 14s 32ms/step - loss: 2.0750 - accuracy: 0.2841 - val_loss: 1.9121 - val_accuracy: 0.3530\n",
      "Epoch 3/3\n",
      "430/430 [==============================] - 13s 31ms/step - loss: 1.7606 - accuracy: 0.4136 - val_loss: 1.5499 - val_accuracy: 0.5354\n",
      "\n",
      "Accuracy: 53.54%\n",
      "\n"
     ]
    },
    {
     "data": {
      "text/plain": [
       "-0.5353999733924866"
      ]
     },
     "execution_count": 29,
     "metadata": {},
     "output_type": "execute_result"
    }
   ],
   "source": [
    "fitness(x=default_parameters)"
   ]
  },
  {
   "cell_type": "markdown",
   "metadata": {},
   "source": [
    "### Run the Hyper-Parameter Optimization\n",
    "\n",
    "Now we are ready to run the actual hyper-parameter optimization using Bayesian optimization from the scikit-optimize package. Note that it first calls `fitness()` with `default_parameters` as the starting point we have found by hand-tuning, which should help the optimizer locate better hyper-parameters faster.\n",
    "\n",
    "There are many more parameters you can experiment with here, including the number of calls to the `fitness()` function which we have set to 40. But `fitness()` is very expensive to evaluate so it should not be run too many times, especially for larger neural networks and datasets.\n",
    "\n",
    "You can also experiment with the so-called acquisition function which determines how to find a new set of hyper-parameters from the internal model of the Bayesian optimizer. You can also try using another Bayesian optimizer such as Random Forests."
   ]
  },
  {
   "cell_type": "code",
   "execution_count": 30,
   "metadata": {},
   "outputs": [
    {
     "name": "stdout",
     "output_type": "stream",
     "text": [
      "learning rate: 1.0e-05\n",
      "num_dense_layers: 1\n",
      "num_dense_nodes: 16\n",
      "activation: relu\n",
      "\n",
      "Epoch 1/3\n",
      "430/430 [==============================] - 15s 34ms/step - loss: 2.2519 - accuracy: 0.2278 - val_loss: 2.1750 - val_accuracy: 0.3060\n",
      "Epoch 2/3\n",
      "430/430 [==============================] - 14s 34ms/step - loss: 2.0493 - accuracy: 0.3999 - val_loss: 1.8719 - val_accuracy: 0.4744\n",
      "Epoch 3/3\n",
      "430/430 [==============================] - 14s 33ms/step - loss: 1.7177 - accuracy: 0.4996 - val_loss: 1.5109 - val_accuracy: 0.5368\n",
      "\n",
      "Accuracy: 53.68%\n",
      "\n",
      "learning rate: 4.5e-03\n",
      "num_dense_layers: 1\n",
      "num_dense_nodes: 419\n",
      "activation: sigmoid\n",
      "\n",
      "Epoch 1/3\n",
      "430/430 [==============================] - 16s 38ms/step - loss: 1.2563 - accuracy: 0.5540 - val_loss: 0.1583 - val_accuracy: 0.9528\n",
      "Epoch 2/3\n",
      "430/430 [==============================] - 16s 38ms/step - loss: 0.1396 - accuracy: 0.9564 - val_loss: 0.0821 - val_accuracy: 0.9746\n",
      "Epoch 3/3\n",
      "430/430 [==============================] - 16s 37ms/step - loss: 0.0887 - accuracy: 0.9720 - val_loss: 0.0552 - val_accuracy: 0.9826\n",
      "\n",
      "Accuracy: 98.26%\n",
      "\n",
      "learning rate: 7.1e-06\n",
      "num_dense_layers: 4\n",
      "num_dense_nodes: 270\n",
      "activation: relu\n",
      "\n",
      "Epoch 1/3\n",
      "430/430 [==============================] - 16s 38ms/step - loss: 2.1107 - accuracy: 0.5469 - val_loss: 1.6183 - val_accuracy: 0.7274\n",
      "Epoch 2/3\n",
      "430/430 [==============================] - 15s 34ms/step - loss: 1.0589 - accuracy: 0.7585 - val_loss: 0.6104 - val_accuracy: 0.8674\n",
      "Epoch 3/3\n",
      "430/430 [==============================] - 15s 34ms/step - loss: 0.5512 - accuracy: 0.8556 - val_loss: 0.3795 - val_accuracy: 0.9102\n",
      "\n",
      "Accuracy: 91.02%\n",
      "\n",
      "learning rate: 1.8e-06\n",
      "num_dense_layers: 2\n",
      "num_dense_nodes: 173\n",
      "activation: sigmoid\n",
      "\n",
      "Epoch 1/3\n",
      "430/430 [==============================] - 16s 36ms/step - loss: 2.3556 - accuracy: 0.1022 - val_loss: 2.3223 - val_accuracy: 0.1018\n",
      "Epoch 2/3\n",
      "430/430 [==============================] - 16s 36ms/step - loss: 2.3126 - accuracy: 0.1022 - val_loss: 2.3049 - val_accuracy: 0.1018\n",
      "Epoch 3/3\n",
      "430/430 [==============================] - 16s 36ms/step - loss: 2.3032 - accuracy: 0.1022 - val_loss: 2.3019 - val_accuracy: 0.1018\n",
      "\n",
      "Accuracy: 10.18%\n",
      "\n",
      "learning rate: 2.3e-05\n",
      "num_dense_layers: 3\n",
      "num_dense_nodes: 151\n",
      "activation: relu\n",
      "\n",
      "Epoch 1/3\n",
      "430/430 [==============================] - 15s 34ms/step - loss: 1.5315 - accuracy: 0.5903 - val_loss: 0.5441 - val_accuracy: 0.8874\n",
      "Epoch 2/3\n",
      "430/430 [==============================] - 15s 35ms/step - loss: 0.4464 - accuracy: 0.8804 - val_loss: 0.2694 - val_accuracy: 0.9322\n",
      "Epoch 3/3\n",
      "430/430 [==============================] - 15s 35ms/step - loss: 0.3049 - accuracy: 0.9123 - val_loss: 0.2052 - val_accuracy: 0.9458\n",
      "\n",
      "Accuracy: 94.58%\n",
      "\n",
      "learning rate: 1.0e-03\n",
      "num_dense_layers: 2\n",
      "num_dense_nodes: 230\n",
      "activation: sigmoid\n",
      "\n",
      "Epoch 1/3\n",
      "430/430 [==============================] - 16s 37ms/step - loss: 1.2652 - accuracy: 0.5628 - val_loss: 0.2567 - val_accuracy: 0.9248\n",
      "Epoch 2/3\n",
      "430/430 [==============================] - 15s 35ms/step - loss: 0.2228 - accuracy: 0.9319 - val_loss: 0.1204 - val_accuracy: 0.9630\n",
      "Epoch 3/3\n",
      "430/430 [==============================] - 16s 37ms/step - loss: 0.1279 - accuracy: 0.9598 - val_loss: 0.0849 - val_accuracy: 0.9742\n",
      "\n",
      "Accuracy: 97.42%\n",
      "\n",
      "learning rate: 1.2e-03\n",
      "num_dense_layers: 2\n",
      "num_dense_nodes: 334\n",
      "activation: sigmoid\n",
      "\n",
      "Epoch 1/3\n",
      "430/430 [==============================] - 16s 37ms/step - loss: 1.1952 - accuracy: 0.5761 - val_loss: 0.2061 - val_accuracy: 0.9412\n",
      "Epoch 2/3\n",
      "430/430 [==============================] - 15s 36ms/step - loss: 0.1930 - accuracy: 0.9397 - val_loss: 0.1108 - val_accuracy: 0.9666\n",
      "Epoch 3/3\n",
      "430/430 [==============================] - 15s 36ms/step - loss: 0.1166 - accuracy: 0.9637 - val_loss: 0.0884 - val_accuracy: 0.9734\n",
      "\n",
      "Accuracy: 97.34%\n",
      "\n",
      "learning rate: 8.1e-06\n",
      "num_dense_layers: 3\n",
      "num_dense_nodes: 9\n",
      "activation: relu\n",
      "\n",
      "Epoch 1/3\n",
      "430/430 [==============================] - 14s 32ms/step - loss: 2.2835 - accuracy: 0.1082 - val_loss: 2.2474 - val_accuracy: 0.1436\n",
      "Epoch 2/3\n",
      "430/430 [==============================] - 13s 31ms/step - loss: 2.2063 - accuracy: 0.1833 - val_loss: 2.1439 - val_accuracy: 0.2280\n",
      "Epoch 3/3\n",
      "430/430 [==============================] - 13s 30ms/step - loss: 2.1079 - accuracy: 0.2326 - val_loss: 2.0378 - val_accuracy: 0.2672\n",
      "\n",
      "Accuracy: 26.72%\n",
      "\n",
      "learning rate: 5.9e-04\n",
      "num_dense_layers: 4\n",
      "num_dense_nodes: 230\n",
      "activation: sigmoid\n",
      "\n",
      "Epoch 1/3\n",
      "430/430 [==============================] - 16s 37ms/step - loss: 2.2304 - accuracy: 0.1463 - val_loss: 1.3084 - val_accuracy: 0.5738\n",
      "Epoch 2/3\n",
      "430/430 [==============================] - 16s 37ms/step - loss: 0.5549 - accuracy: 0.8333 - val_loss: 0.2043 - val_accuracy: 0.9466\n",
      "Epoch 3/3\n",
      "430/430 [==============================] - 16s 37ms/step - loss: 0.1989 - accuracy: 0.9425 - val_loss: 0.1179 - val_accuracy: 0.9688\n",
      "\n",
      "Accuracy: 96.88%\n",
      "\n",
      "learning rate: 7.8e-06\n",
      "num_dense_layers: 3\n",
      "num_dense_nodes: 85\n",
      "activation: relu\n",
      "\n",
      "Epoch 1/3\n",
      "430/430 [==============================] - 16s 36ms/step - loss: 2.2300 - accuracy: 0.2653 - val_loss: 2.0913 - val_accuracy: 0.3874\n",
      "Epoch 2/3\n",
      "430/430 [==============================] - 16s 37ms/step - loss: 1.8066 - accuracy: 0.5289 - val_loss: 1.3990 - val_accuracy: 0.7348\n",
      "Epoch 3/3\n",
      "430/430 [==============================] - 15s 35ms/step - loss: 1.1108 - accuracy: 0.7813 - val_loss: 0.7679 - val_accuracy: 0.8560\n",
      "\n",
      "Accuracy: 85.60%\n",
      "\n",
      "learning rate: 5.7e-05\n",
      "num_dense_layers: 2\n",
      "num_dense_nodes: 341\n",
      "activation: relu\n",
      "\n",
      "Epoch 1/3\n",
      "430/430 [==============================] - 17s 39ms/step - loss: 0.7839 - accuracy: 0.8080 - val_loss: 0.2057 - val_accuracy: 0.9444\n",
      "Epoch 2/3\n",
      "430/430 [==============================] - 16s 37ms/step - loss: 0.2090 - accuracy: 0.9392 - val_loss: 0.1306 - val_accuracy: 0.9636\n",
      "Epoch 3/3\n",
      "430/430 [==============================] - 15s 35ms/step - loss: 0.1427 - accuracy: 0.9583 - val_loss: 0.0946 - val_accuracy: 0.9748\n",
      "\n",
      "Accuracy: 97.48%\n",
      "\n",
      "learning rate: 1.5e-03\n",
      "num_dense_layers: 3\n",
      "num_dense_nodes: 410\n",
      "activation: sigmoid\n",
      "\n",
      "Epoch 1/3\n",
      "430/430 [==============================] - 18s 42ms/step - loss: 1.4771 - accuracy: 0.4445 - val_loss: 0.3075 - val_accuracy: 0.9060\n",
      "Epoch 2/3\n",
      "430/430 [==============================] - 18s 41ms/step - loss: 0.2211 - accuracy: 0.9313 - val_loss: 0.1219 - val_accuracy: 0.9634\n",
      "Epoch 3/3\n",
      "430/430 [==============================] - 18s 41ms/step - loss: 0.1250 - accuracy: 0.9609 - val_loss: 0.0927 - val_accuracy: 0.9714\n",
      "\n",
      "Accuracy: 97.14%\n",
      "\n",
      "learning rate: 9.1e-05\n",
      "num_dense_layers: 4\n",
      "num_dense_nodes: 140\n",
      "activation: relu\n",
      "\n",
      "Epoch 1/3\n",
      "430/430 [==============================] - 16s 38ms/step - loss: 0.7647 - accuracy: 0.7700 - val_loss: 0.2173 - val_accuracy: 0.9388\n",
      "Epoch 2/3\n",
      "430/430 [==============================] - 16s 36ms/step - loss: 0.2204 - accuracy: 0.9328 - val_loss: 0.1330 - val_accuracy: 0.9618\n",
      "Epoch 3/3\n",
      "430/430 [==============================] - 16s 36ms/step - loss: 0.1464 - accuracy: 0.9563 - val_loss: 0.1014 - val_accuracy: 0.9716\n",
      "\n",
      "Accuracy: 97.16%\n",
      "\n",
      "learning rate: 2.0e-03\n",
      "num_dense_layers: 1\n",
      "num_dense_nodes: 246\n",
      "activation: sigmoid\n",
      "\n",
      "Epoch 1/3\n",
      "430/430 [==============================] - 16s 38ms/step - loss: 0.9941 - accuracy: 0.6546 - val_loss: 0.1254 - val_accuracy: 0.9650\n",
      "Epoch 2/3\n",
      "430/430 [==============================] - 16s 37ms/step - loss: 0.1198 - accuracy: 0.9634 - val_loss: 0.0718 - val_accuracy: 0.9790\n",
      "Epoch 3/3\n",
      "430/430 [==============================] - 15s 36ms/step - loss: 0.0712 - accuracy: 0.9780 - val_loss: 0.0524 - val_accuracy: 0.9854\n",
      "\n",
      "Accuracy: 98.54%\n",
      "\n",
      "learning rate: 5.2e-06\n",
      "num_dense_layers: 5\n",
      "num_dense_nodes: 438\n",
      "activation: sigmoid\n",
      "\n",
      "Epoch 1/3\n",
      "430/430 [==============================] - 17s 39ms/step - loss: 2.3183 - accuracy: 0.1082 - val_loss: 2.3020 - val_accuracy: 0.1060\n",
      "Epoch 2/3\n",
      "430/430 [==============================] - 16s 37ms/step - loss: 2.3014 - accuracy: 0.1129 - val_loss: 2.3025 - val_accuracy: 0.1060\n",
      "Epoch 3/3\n",
      "430/430 [==============================] - 16s 37ms/step - loss: 2.3015 - accuracy: 0.1123 - val_loss: 2.3017 - val_accuracy: 0.1060\n",
      "\n",
      "Accuracy: 10.60%\n",
      "\n",
      "learning rate: 1.0e-02\n",
      "num_dense_layers: 1\n",
      "num_dense_nodes: 238\n",
      "activation: sigmoid\n",
      "\n",
      "Epoch 1/3\n",
      "430/430 [==============================] - 16s 36ms/step - loss: 2.3759 - accuracy: 0.1039 - val_loss: 2.3565 - val_accuracy: 0.0916\n"
     ]
    },
    {
     "name": "stdout",
     "output_type": "stream",
     "text": [
      "Epoch 2/3\n",
      "430/430 [==============================] - 15s 36ms/step - loss: 2.3481 - accuracy: 0.1001 - val_loss: 2.3194 - val_accuracy: 0.0998\n",
      "Epoch 3/3\n",
      "430/430 [==============================] - 15s 35ms/step - loss: 2.3526 - accuracy: 0.1016 - val_loss: 2.3364 - val_accuracy: 0.1060\n",
      "\n",
      "Accuracy: 10.60%\n",
      "\n",
      "learning rate: 5.6e-03\n",
      "num_dense_layers: 1\n",
      "num_dense_nodes: 250\n",
      "activation: sigmoid\n",
      "\n",
      "Epoch 1/3\n",
      "430/430 [==============================] - 16s 36ms/step - loss: 2.3567 - accuracy: 0.1026 - val_loss: 2.3329 - val_accuracy: 0.0988\n",
      "Epoch 2/3\n",
      "430/430 [==============================] - 15s 35ms/step - loss: 2.3300 - accuracy: 0.1036 - val_loss: 2.3415 - val_accuracy: 0.0964\n",
      "Epoch 3/3\n",
      "430/430 [==============================] - 15s 35ms/step - loss: 2.3323 - accuracy: 0.1007 - val_loss: 2.3534 - val_accuracy: 0.0966\n",
      "\n",
      "Accuracy: 9.66%\n",
      "\n",
      "learning rate: 3.3e-03\n",
      "num_dense_layers: 1\n",
      "num_dense_nodes: 512\n",
      "activation: sigmoid\n",
      "\n",
      "Epoch 1/3\n",
      "430/430 [==============================] - 16s 36ms/step - loss: 1.1629 - accuracy: 0.5949 - val_loss: 0.2384 - val_accuracy: 0.9214\n",
      "Epoch 2/3\n",
      "430/430 [==============================] - 16s 37ms/step - loss: 0.1624 - accuracy: 0.9490 - val_loss: 0.0995 - val_accuracy: 0.9710\n",
      "Epoch 3/3\n",
      "430/430 [==============================] - 16s 37ms/step - loss: 0.0983 - accuracy: 0.9683 - val_loss: 0.0835 - val_accuracy: 0.9744\n",
      "\n",
      "Accuracy: 97.44%\n",
      "\n",
      "learning rate: 4.0e-05\n",
      "num_dense_layers: 1\n",
      "num_dense_nodes: 242\n",
      "activation: relu\n",
      "\n",
      "Epoch 1/3\n",
      "430/430 [==============================] - 14s 32ms/step - loss: 1.0435 - accuracy: 0.7544 - val_loss: 0.2960 - val_accuracy: 0.9308\n",
      "Epoch 2/3\n",
      "430/430 [==============================] - 14s 32ms/step - loss: 0.2957 - accuracy: 0.9182 - val_loss: 0.1823 - val_accuracy: 0.9502\n",
      "Epoch 3/3\n",
      "430/430 [==============================] - 14s 32ms/step - loss: 0.2093 - accuracy: 0.9397 - val_loss: 0.1410 - val_accuracy: 0.9612\n",
      "\n",
      "Accuracy: 96.12%\n",
      "\n",
      "learning rate: 2.4e-04\n",
      "num_dense_layers: 4\n",
      "num_dense_nodes: 281\n",
      "activation: relu\n",
      "\n",
      "Epoch 1/3\n",
      "430/430 [==============================] - 16s 37ms/step - loss: 0.3771 - accuracy: 0.8881 - val_loss: 0.0888 - val_accuracy: 0.9748\n",
      "Epoch 2/3\n",
      "430/430 [==============================] - 16s 37ms/step - loss: 0.0920 - accuracy: 0.9724 - val_loss: 0.0670 - val_accuracy: 0.9796\n",
      "Epoch 3/3\n",
      "430/430 [==============================] - 16s 37ms/step - loss: 0.0628 - accuracy: 0.9804 - val_loss: 0.0651 - val_accuracy: 0.9828\n",
      "\n",
      "Accuracy: 98.28%\n",
      "\n",
      "learning rate: 5.9e-04\n",
      "num_dense_layers: 2\n",
      "num_dense_nodes: 109\n",
      "activation: relu\n",
      "\n",
      "Epoch 1/3\n",
      "430/430 [==============================] - 15s 35ms/step - loss: 0.2970 - accuracy: 0.9125 - val_loss: 0.0745 - val_accuracy: 0.9784\n",
      "Epoch 2/3\n",
      "430/430 [==============================] - 15s 34ms/step - loss: 0.0724 - accuracy: 0.9779 - val_loss: 0.0509 - val_accuracy: 0.9854\n",
      "Epoch 3/3\n",
      "430/430 [==============================] - 15s 35ms/step - loss: 0.0508 - accuracy: 0.9836 - val_loss: 0.0518 - val_accuracy: 0.9856\n",
      "\n",
      "Accuracy: 98.56%\n",
      "\n",
      "learning rate: 1.8e-03\n",
      "num_dense_layers: 2\n",
      "num_dense_nodes: 281\n",
      "activation: relu\n",
      "\n",
      "Epoch 1/3\n",
      "430/430 [==============================] - 15s 35ms/step - loss: 0.1619 - accuracy: 0.9489 - val_loss: 0.0480 - val_accuracy: 0.9866\n",
      "Epoch 2/3\n",
      "430/430 [==============================] - 15s 34ms/step - loss: 0.0485 - accuracy: 0.9846 - val_loss: 0.0419 - val_accuracy: 0.9888\n",
      "Epoch 3/3\n",
      "430/430 [==============================] - 15s 35ms/step - loss: 0.0319 - accuracy: 0.9899 - val_loss: 0.0364 - val_accuracy: 0.9904\n",
      "\n",
      "Accuracy: 99.04%\n",
      "\n",
      "learning rate: 4.8e-03\n",
      "num_dense_layers: 5\n",
      "num_dense_nodes: 83\n",
      "activation: relu\n",
      "\n",
      "Epoch 1/3\n",
      "430/430 [==============================] - 14s 34ms/step - loss: 0.2473 - accuracy: 0.9181 - val_loss: 0.0596 - val_accuracy: 0.9828\n",
      "Epoch 2/3\n",
      "430/430 [==============================] - 14s 34ms/step - loss: 0.0620 - accuracy: 0.9822 - val_loss: 0.0854 - val_accuracy: 0.9750\n",
      "Epoch 3/3\n",
      "430/430 [==============================] - 13s 31ms/step - loss: 0.0479 - accuracy: 0.9868 - val_loss: 0.0455 - val_accuracy: 0.9876\n",
      "\n",
      "Accuracy: 98.76%\n",
      "\n",
      "learning rate: 1.0e-02\n",
      "num_dense_layers: 5\n",
      "num_dense_nodes: 306\n",
      "activation: relu\n",
      "\n",
      "Epoch 1/3\n",
      "430/430 [==============================] - 15s 34ms/step - loss: 0.5116 - accuracy: 0.8304 - val_loss: 0.1027 - val_accuracy: 0.9734\n",
      "Epoch 2/3\n",
      "430/430 [==============================] - 14s 33ms/step - loss: 0.1415 - accuracy: 0.9657 - val_loss: 0.1134 - val_accuracy: 0.9760\n",
      "Epoch 3/3\n",
      "430/430 [==============================] - 14s 33ms/step - loss: 0.1208 - accuracy: 0.9704 - val_loss: 0.1025 - val_accuracy: 0.9774\n",
      "\n",
      "Accuracy: 97.74%\n",
      "\n",
      "learning rate: 1.4e-03\n",
      "num_dense_layers: 5\n",
      "num_dense_nodes: 512\n",
      "activation: relu\n",
      "\n",
      "Epoch 1/3\n",
      "430/430 [==============================] - 18s 41ms/step - loss: 0.1809 - accuracy: 0.9421 - val_loss: 0.0584 - val_accuracy: 0.9846\n",
      "Epoch 2/3\n",
      "430/430 [==============================] - 17s 40ms/step - loss: 0.0591 - accuracy: 0.9836 - val_loss: 0.0406 - val_accuracy: 0.9878\n",
      "Epoch 3/3\n",
      "430/430 [==============================] - 17s 40ms/step - loss: 0.0429 - accuracy: 0.9884 - val_loss: 0.0418 - val_accuracy: 0.9910\n",
      "\n",
      "Accuracy: 99.10%\n",
      "\n",
      "learning rate: 9.9e-04\n",
      "num_dense_layers: 1\n",
      "num_dense_nodes: 512\n",
      "activation: sigmoid\n",
      "\n",
      "Epoch 1/3\n",
      "430/430 [==============================] - 16s 38ms/step - loss: 1.2479 - accuracy: 0.5711 - val_loss: 0.2792 - val_accuracy: 0.9118\n",
      "Epoch 2/3\n",
      "430/430 [==============================] - 16s 37ms/step - loss: 0.2499 - accuracy: 0.9222 - val_loss: 0.1388 - val_accuracy: 0.9592\n",
      "Epoch 3/3\n",
      "430/430 [==============================] - 15s 36ms/step - loss: 0.1500 - accuracy: 0.9527 - val_loss: 0.1038 - val_accuracy: 0.9672\n",
      "\n",
      "Accuracy: 96.72%\n",
      "\n",
      "learning rate: 4.0e-05\n",
      "num_dense_layers: 4\n",
      "num_dense_nodes: 244\n",
      "activation: relu\n",
      "\n",
      "Epoch 1/3\n",
      "430/430 [==============================] - 16s 36ms/step - loss: 0.9866 - accuracy: 0.7544 - val_loss: 0.2667 - val_accuracy: 0.9294\n",
      "Epoch 2/3\n",
      "430/430 [==============================] - 15s 35ms/step - loss: 0.2675 - accuracy: 0.9209 - val_loss: 0.1635 - val_accuracy: 0.9542\n",
      "Epoch 3/3\n",
      "430/430 [==============================] - 15s 36ms/step - loss: 0.1854 - accuracy: 0.9437 - val_loss: 0.1203 - val_accuracy: 0.9638\n",
      "\n",
      "Accuracy: 96.38%\n",
      "\n",
      "learning rate: 1.0e-02\n",
      "num_dense_layers: 1\n",
      "num_dense_nodes: 512\n",
      "activation: relu\n",
      "\n",
      "Epoch 1/3\n",
      "430/430 [==============================] - 14s 34ms/step - loss: 0.1755 - accuracy: 0.9475 - val_loss: 0.0523 - val_accuracy: 0.9830\n",
      "Epoch 2/3\n",
      "430/430 [==============================] - 14s 33ms/step - loss: 0.0648 - accuracy: 0.9799 - val_loss: 0.0590 - val_accuracy: 0.9838\n",
      "Epoch 3/3\n",
      "430/430 [==============================] - 15s 35ms/step - loss: 0.0608 - accuracy: 0.9818 - val_loss: 0.0497 - val_accuracy: 0.9846\n",
      "\n",
      "Accuracy: 98.46%\n",
      "\n",
      "learning rate: 1.0e-02\n",
      "num_dense_layers: 1\n",
      "num_dense_nodes: 225\n",
      "activation: sigmoid\n",
      "\n",
      "Epoch 1/3\n",
      "430/430 [==============================] - 16s 36ms/step - loss: 2.3737 - accuracy: 0.0994 - val_loss: 2.3889 - val_accuracy: 0.0964\n",
      "Epoch 2/3\n",
      "430/430 [==============================] - 16s 37ms/step - loss: 2.3524 - accuracy: 0.1003 - val_loss: 2.3327 - val_accuracy: 0.1126\n",
      "Epoch 3/3\n",
      "430/430 [==============================] - 15s 36ms/step - loss: 2.3434 - accuracy: 0.1012 - val_loss: 2.3622 - val_accuracy: 0.1018\n",
      "\n",
      "Accuracy: 10.18%\n",
      "\n",
      "learning rate: 1.1e-05\n",
      "num_dense_layers: 3\n",
      "num_dense_nodes: 150\n",
      "activation: relu\n",
      "\n",
      "Epoch 1/3\n",
      "430/430 [==============================] - 15s 35ms/step - loss: 2.1494 - accuracy: 0.3570 - val_loss: 1.8194 - val_accuracy: 0.6766\n",
      "Epoch 2/3\n",
      "430/430 [==============================] - 14s 33ms/step - loss: 1.2689 - accuracy: 0.7559 - val_loss: 0.7304 - val_accuracy: 0.8586\n",
      "Epoch 3/3\n",
      "430/430 [==============================] - 14s 33ms/step - loss: 0.6356 - accuracy: 0.8398 - val_loss: 0.4367 - val_accuracy: 0.8954\n",
      "\n",
      "Accuracy: 89.54%\n",
      "\n",
      "learning rate: 2.0e-04\n",
      "num_dense_layers: 2\n",
      "num_dense_nodes: 512\n",
      "activation: relu\n",
      "\n",
      "Epoch 1/3\n",
      "430/430 [==============================] - 17s 39ms/step - loss: 0.3664 - accuracy: 0.9010 - val_loss: 0.0921 - val_accuracy: 0.9740\n",
      "Epoch 2/3\n",
      "430/430 [==============================] - 17s 39ms/step - loss: 0.0882 - accuracy: 0.9727 - val_loss: 0.0664 - val_accuracy: 0.9810\n",
      "Epoch 3/3\n"
     ]
    },
    {
     "name": "stdout",
     "output_type": "stream",
     "text": [
      "430/430 [==============================] - 17s 39ms/step - loss: 0.0577 - accuracy: 0.9822 - val_loss: 0.0554 - val_accuracy: 0.9838\n",
      "\n",
      "Accuracy: 98.38%\n",
      "\n",
      "learning rate: 1.0e-06\n",
      "num_dense_layers: 1\n",
      "num_dense_nodes: 512\n",
      "activation: relu\n",
      "\n",
      "Epoch 1/3\n",
      "430/430 [==============================] - 15s 36ms/step - loss: 2.2782 - accuracy: 0.1718 - val_loss: 2.2483 - val_accuracy: 0.2756\n",
      "Epoch 2/3\n",
      "430/430 [==============================] - 15s 35ms/step - loss: 2.2215 - accuracy: 0.4012 - val_loss: 2.1821 - val_accuracy: 0.5520\n",
      "Epoch 3/3\n",
      "430/430 [==============================] - 15s 35ms/step - loss: 2.1511 - accuracy: 0.5821 - val_loss: 2.0992 - val_accuracy: 0.6712\n",
      "\n",
      "Accuracy: 67.12%\n",
      "\n",
      "learning rate: 1.6e-03\n",
      "num_dense_layers: 5\n",
      "num_dense_nodes: 5\n",
      "activation: relu\n",
      "\n",
      "Epoch 1/3\n",
      "430/430 [==============================] - 13s 30ms/step - loss: 1.1709 - accuracy: 0.5762 - val_loss: 0.5397 - val_accuracy: 0.8820\n",
      "Epoch 2/3\n",
      "430/430 [==============================] - 12s 29ms/step - loss: 0.3854 - accuracy: 0.9079 - val_loss: 0.2617 - val_accuracy: 0.9404\n",
      "Epoch 3/3\n",
      "430/430 [==============================] - 13s 30ms/step - loss: 0.2270 - accuracy: 0.9406 - val_loss: 0.1937 - val_accuracy: 0.9522\n",
      "\n",
      "Accuracy: 95.22%\n",
      "\n",
      "learning rate: 3.5e-03\n",
      "num_dense_layers: 2\n",
      "num_dense_nodes: 415\n",
      "activation: relu\n",
      "\n",
      "Epoch 1/3\n",
      "430/430 [==============================] - 16s 38ms/step - loss: 0.1447 - accuracy: 0.9539 - val_loss: 0.0436 - val_accuracy: 0.9860\n",
      "Epoch 2/3\n",
      "430/430 [==============================] - 16s 38ms/step - loss: 0.0476 - accuracy: 0.9849 - val_loss: 0.0463 - val_accuracy: 0.9874\n",
      "Epoch 3/3\n",
      "430/430 [==============================] - 16s 37ms/step - loss: 0.0337 - accuracy: 0.9897 - val_loss: 0.0353 - val_accuracy: 0.9886\n",
      "\n",
      "Accuracy: 98.86%\n",
      "\n",
      "learning rate: 1.1e-03\n",
      "num_dense_layers: 2\n",
      "num_dense_nodes: 485\n",
      "activation: relu\n",
      "\n",
      "Epoch 1/3\n",
      "430/430 [==============================] - 17s 40ms/step - loss: 0.1701 - accuracy: 0.9480 - val_loss: 0.0644 - val_accuracy: 0.9808\n",
      "Epoch 2/3\n",
      "430/430 [==============================] - 16s 38ms/step - loss: 0.0486 - accuracy: 0.9847 - val_loss: 0.0496 - val_accuracy: 0.9838\n",
      "Epoch 3/3\n",
      "430/430 [==============================] - 17s 39ms/step - loss: 0.0320 - accuracy: 0.9897 - val_loss: 0.0389 - val_accuracy: 0.9884\n",
      "\n",
      "Accuracy: 98.84%\n",
      "\n",
      "learning rate: 3.1e-04\n",
      "num_dense_layers: 2\n",
      "num_dense_nodes: 5\n",
      "activation: sigmoid\n",
      "\n",
      "Epoch 1/3\n",
      "430/430 [==============================] - 14s 33ms/step - loss: 2.3192 - accuracy: 0.1129 - val_loss: 2.3077 - val_accuracy: 0.1060\n",
      "Epoch 2/3\n",
      "430/430 [==============================] - 14s 33ms/step - loss: 2.3026 - accuracy: 0.1129 - val_loss: 2.3024 - val_accuracy: 0.1060\n",
      "Epoch 3/3\n",
      "430/430 [==============================] - 14s 32ms/step - loss: 2.3013 - accuracy: 0.1129 - val_loss: 2.3019 - val_accuracy: 0.1060\n",
      "\n",
      "Accuracy: 10.60%\n",
      "\n",
      "learning rate: 1.1e-03\n",
      "num_dense_layers: 3\n",
      "num_dense_nodes: 306\n",
      "activation: relu\n",
      "\n",
      "Epoch 1/3\n",
      "430/430 [==============================] - 16s 37ms/step - loss: 0.2000 - accuracy: 0.9371 - val_loss: 0.0470 - val_accuracy: 0.9856\n",
      "Epoch 2/3\n",
      "430/430 [==============================] - 16s 38ms/step - loss: 0.0473 - accuracy: 0.9851 - val_loss: 0.0560 - val_accuracy: 0.9842\n",
      "Epoch 3/3\n",
      "430/430 [==============================] - 16s 36ms/step - loss: 0.0358 - accuracy: 0.9885 - val_loss: 0.0515 - val_accuracy: 0.9858\n",
      "\n",
      "Accuracy: 98.58%\n",
      "\n",
      "learning rate: 1.2e-03\n",
      "num_dense_layers: 4\n",
      "num_dense_nodes: 301\n",
      "activation: relu\n",
      "\n",
      "Epoch 1/3\n",
      "430/430 [==============================] - 15s 35ms/step - loss: 0.1999 - accuracy: 0.9343 - val_loss: 0.0551 - val_accuracy: 0.9844\n",
      "Epoch 2/3\n",
      "430/430 [==============================] - 15s 35ms/step - loss: 0.0562 - accuracy: 0.9831 - val_loss: 0.0451 - val_accuracy: 0.9888\n",
      "Epoch 3/3\n",
      "430/430 [==============================] - 15s 34ms/step - loss: 0.0391 - accuracy: 0.9881 - val_loss: 0.0528 - val_accuracy: 0.9860\n",
      "\n",
      "Accuracy: 98.60%\n",
      "\n",
      "learning rate: 1.3e-03\n",
      "num_dense_layers: 3\n",
      "num_dense_nodes: 487\n",
      "activation: sigmoid\n",
      "\n",
      "Epoch 1/3\n",
      "430/430 [==============================] - 18s 41ms/step - loss: 1.5509 - accuracy: 0.4178 - val_loss: 0.5166 - val_accuracy: 0.8254\n",
      "Epoch 2/3\n",
      "430/430 [==============================] - 17s 39ms/step - loss: 0.3280 - accuracy: 0.8945 - val_loss: 0.1503 - val_accuracy: 0.9560\n",
      "Epoch 3/3\n",
      "430/430 [==============================] - 16s 38ms/step - loss: 0.1739 - accuracy: 0.9458 - val_loss: 0.1259 - val_accuracy: 0.9638\n",
      "\n",
      "Accuracy: 96.38%\n",
      "\n",
      "learning rate: 1.5e-03\n",
      "num_dense_layers: 1\n",
      "num_dense_nodes: 496\n",
      "activation: relu\n",
      "\n",
      "Epoch 1/3\n",
      "430/430 [==============================] - 15s 35ms/step - loss: 0.1514 - accuracy: 0.9539 - val_loss: 0.0433 - val_accuracy: 0.9878\n",
      "Epoch 2/3\n",
      "430/430 [==============================] - 15s 35ms/step - loss: 0.0443 - accuracy: 0.9861 - val_loss: 0.0332 - val_accuracy: 0.9910\n",
      "Epoch 3/3\n",
      "430/430 [==============================] - 15s 35ms/step - loss: 0.0298 - accuracy: 0.9903 - val_loss: 0.0383 - val_accuracy: 0.9908\n",
      "\n",
      "Accuracy: 99.08%\n",
      "\n",
      "CPU times: user 3h 5min 32s, sys: 1h 59min 20s, total: 5h 4min 53s\n",
      "Wall time: 31min 19s\n"
     ]
    }
   ],
   "source": [
    "%%time\n",
    "search_result = gp_minimize(func=fitness,\n",
    "                            dimensions=dimensions,\n",
    "                            acq_func='EI', # Expected Improvement.\n",
    "                            n_calls=40,\n",
    "                            x0=default_parameters)"
   ]
  },
  {
   "cell_type": "markdown",
   "metadata": {},
   "source": [
    "### Optimization Progress\n",
    "\n",
    "The progress of the hyper-parameter optimization can be easily plotted. The best fitness value found is plotted on the y-axis, remember that this is the negated classification accuracy on the validation-set.\n",
    "\n",
    "Note how few hyper-parameters had to be tried before substantial improvements were found."
   ]
  },
  {
   "cell_type": "code",
   "execution_count": 31,
   "metadata": {
    "scrolled": true
   },
   "outputs": [
    {
     "data": {
      "text/plain": [
       "<AxesSubplot:title={'center':'Convergence plot'}, xlabel='Number of calls $n$', ylabel='$\\\\min f(x)$ after $n$ calls'>"
      ]
     },
     "execution_count": 31,
     "metadata": {},
     "output_type": "execute_result"
    },
    {
     "data": {
      "image/png": "[encoded data removed]",
      "text/plain": [
       "<Figure size 432x288 with 1 Axes>"
      ]
     },
     "metadata": {
      "needs_background": "light"
     },
     "output_type": "display_data"
    }
   ],
   "source": [
    "plot_convergence(search_result)"
   ]
  },
  {
   "cell_type": "markdown",
   "metadata": {},
   "source": [
    "### Best Hyper-Parameters\n",
    "\n",
    "The best hyper-parameters found by the Bayesian optimizer are packed as a list because that is what it uses internally."
   ]
  },
  {
   "cell_type": "code",
   "execution_count": 32,
   "metadata": {
    "scrolled": true
   },
   "outputs": [
    {
     "data": {
      "text/plain": [
       "[0.0013527058423645033, 5, 512, 'relu']"
      ]
     },
     "execution_count": 32,
     "metadata": {},
     "output_type": "execute_result"
    }
   ],
   "source": [
    "search_result.x"
   ]
  },
  {
   "cell_type": "markdown",
   "metadata": {},
   "source": [
    "We can convert these parameters to a dict with proper names for the search-space dimensions.\n",
    "\n",
    "First we need a reference to the search-space object."
   ]
  },
  {
   "cell_type": "code",
   "execution_count": 33,
   "metadata": {},
   "outputs": [],
   "source": [
    "space = search_result.space"
   ]
  },
  {
   "cell_type": "markdown",
   "metadata": {},
   "source": [
    "Then we can use it to create a dict where the hyper-parameters have the proper names of the search-space dimensions. This is a bit awkward."
   ]
  },
  {
   "cell_type": "code",
   "execution_count": 34,
   "metadata": {},
   "outputs": [
    {
     "ename": "AttributeError",
     "evalue": "'Space' object has no attribute 'point_to_dict'",
     "output_type": "error",
     "traceback": [
      "\u001b[0;31m---------------------------------------------------------------------------\u001b[0m",
      "\u001b[0;31mAttributeError\u001b[0m                            Traceback (most recent call last)",
      "\u001b[0;32m<ipython-input-34-952d6e90989c>\u001b[0m in \u001b[0;36m<module>\u001b[0;34m\u001b[0m\n\u001b[0;32m----> 1\u001b[0;31m \u001b[0mspace\u001b[0m\u001b[0;34m.\u001b[0m\u001b[0mpoint_to_dict\u001b[0m\u001b[0;34m(\u001b[0m\u001b[0msearch_result\u001b[0m\u001b[0;34m.\u001b[0m\u001b[0mx\u001b[0m\u001b[0;34m)\u001b[0m\u001b[0;34m\u001b[0m\u001b[0;34m\u001b[0m\u001b[0m\n\u001b[0m",
      "\u001b[0;31mAttributeError\u001b[0m: 'Space' object has no attribute 'point_to_dict'"
     ]
    }
   ],
   "source": [
    "space.point_to_dict(search_result.x)"
   ]
  },
  {
   "cell_type": "markdown",
   "metadata": {},
   "source": [
    "This is the fitness value associated with these hyper-parameters. This is a negative number because the Bayesian optimizer performs minimization, so we had to negate the classification accuracy which is posed as a maximization problem."
   ]
  },
  {
   "cell_type": "code",
   "execution_count": 35,
   "metadata": {
    "scrolled": true
   },
   "outputs": [
    {
     "data": {
      "text/plain": [
       "-0.9909999966621399"
      ]
     },
     "execution_count": 35,
     "metadata": {},
     "output_type": "execute_result"
    }
   ],
   "source": [
    "search_result.fun"
   ]
  },
  {
   "cell_type": "markdown",
   "metadata": {},
   "source": [
    "We can also see all the hyper-parameters tried by the Bayesian optimizer and their associated fitness values (the negated classification accuracies). These are sorted so the highest classification accuracies are shown first.\n",
    "\n",
    "It appears that 'relu' activation was generally better than 'sigmoid'. Otherwise it can be difficult to see a pattern of which parameter choices are good. We really need to plot these results."
   ]
  },
  {
   "cell_type": "code",
   "execution_count": 36,
   "metadata": {
    "scrolled": true
   },
   "outputs": [
    {
     "data": {
      "text/plain": [
       "[(-0.9909999966621399, [0.0013527058423645033, 5, 512, 'relu']),\n",
       " (-0.9908000230789185, [0.0014906628856080873, 1, 496, 'relu']),\n",
       " (-0.9904000163078308, [0.0017676808392148428, 2, 281, 'relu']),\n",
       " (-0.9886000156402588, [0.0034719317192023554, 2, 415, 'relu']),\n",
       " (-0.9883999824523926, [0.0011286263551142596, 2, 485, 'relu']),\n",
       " (-0.9876000285148621, [0.004842847762746752, 5, 83, 'relu']),\n",
       " (-0.9860000014305115, [0.0012056955843253638, 4, 301, 'relu']),\n",
       " (-0.98580002784729, [0.0010889412425843714, 3, 306, 'relu']),\n",
       " (-0.9855999946594238, [0.0005903105473119715, 2, 109, 'relu']),\n",
       " (-0.9854000210762024, [0.0019571984644500165, 1, 246, 'sigmoid']),\n",
       " (-0.9846000075340271, [0.01, 1, 512, 'relu']),\n",
       " (-0.9837999939918518, [0.0002038208157285686, 2, 512, 'relu']),\n",
       " (-0.9828000068664551, [0.00024364773434874977, 4, 281, 'relu']),\n",
       " (-0.9825999736785889, [0.004453688734432636, 1, 419, 'sigmoid']),\n",
       " (-0.977400004863739, [0.01, 5, 306, 'relu']),\n",
       " (-0.9747999906539917, [5.726094433645809e-05, 2, 341, 'relu']),\n",
       " (-0.974399983882904, [0.0032531173230208174, 1, 512, 'sigmoid']),\n",
       " (-0.9742000102996826, [0.0010168860040055685, 2, 230, 'sigmoid']),\n",
       " (-0.9733999967575073, [0.001248753231376061, 2, 334, 'sigmoid']),\n",
       " (-0.9715999960899353, [9.104630181237512e-05, 4, 140, 'relu']),\n",
       " (-0.9714000225067139, [0.0015027557697850128, 3, 410, 'sigmoid']),\n",
       " (-0.9688000082969666, [0.0005893872475557734, 4, 230, 'sigmoid']),\n",
       " (-0.967199981212616, [0.0009923504235361815, 1, 512, 'sigmoid']),\n",
       " (-0.9638000130653381, [3.9877819161106586e-05, 4, 244, 'relu']),\n",
       " (-0.9638000130653381, [0.0013493733981554284, 3, 487, 'sigmoid']),\n",
       " (-0.9611999988555908, [4.017884979146281e-05, 1, 242, 'relu']),\n",
       " (-0.9521999955177307, [0.0015798221578171854, 5, 5, 'relu']),\n",
       " (-0.9458000063896179, [2.252390500142217e-05, 3, 151, 'relu']),\n",
       " (-0.9101999998092651, [7.098210130308254e-06, 4, 270, 'relu']),\n",
       " (-0.8953999876976013, [1.0542307407167616e-05, 3, 150, 'relu']),\n",
       " (-0.8560000061988831, [7.754478237575943e-06, 3, 85, 'relu']),\n",
       " (-0.6711999773979187, [1e-06, 1, 512, 'relu']),\n",
       " (-0.5368000268936157, [1e-05, 1, 16, 'relu']),\n",
       " (-0.2671999931335449, [8.074199139679745e-06, 3, 9, 'relu']),\n",
       " (-0.10599999874830246, [5.215209426695923e-06, 5, 438, 'sigmoid']),\n",
       " (-0.10599999874830246, [0.00030898180338988045, 2, 5, 'sigmoid']),\n",
       " (-0.10599999874830246, [0.01, 1, 238, 'sigmoid']),\n",
       " (-0.10180000215768814, [1.7778706216892117e-06, 2, 173, 'sigmoid']),\n",
       " (-0.10180000215768814, [0.01, 1, 225, 'sigmoid']),\n",
       " (-0.0966000035405159, [0.0055813988546173175, 1, 250, 'sigmoid'])]"
      ]
     },
     "execution_count": 36,
     "metadata": {},
     "output_type": "execute_result"
    }
   ],
   "source": [
    "sorted(zip(search_result.func_vals, search_result.x_iters))"
   ]
  },
  {
   "cell_type": "markdown",
   "metadata": {},
   "source": [
    "### Plots\n",
    "\n",
    "There are several plotting functions available in the `skopt` library. For example, we can plot a histogram for the `activation` parameter, which shows the distribution of samples during the hyper-parameter optimization."
   ]
  },
  {
   "cell_type": "code",
   "execution_count": 37,
   "metadata": {
    "scrolled": true
   },
   "outputs": [
    {
     "ename": "TypeError",
     "evalue": "plot_histogram() got an unexpected keyword argument 'dimension_name'",
     "output_type": "error",
     "traceback": [
      "\u001b[0;31m---------------------------------------------------------------------------\u001b[0m",
      "\u001b[0;31mTypeError\u001b[0m                                 Traceback (most recent call last)",
      "\u001b[0;32m<ipython-input-37-b54adbeebc83>\u001b[0m in \u001b[0;36m<module>\u001b[0;34m\u001b[0m\n\u001b[1;32m      1\u001b[0m fig, ax = plot_histogram(result=search_result,\n\u001b[0;32m----> 2\u001b[0;31m                          dimension_name='activation')\n\u001b[0m",
      "\u001b[0;31mTypeError\u001b[0m: plot_histogram() got an unexpected keyword argument 'dimension_name'"
     ]
    }
   ],
   "source": [
    "fig, ax = plot_histogram(result=search_result,\n",
    "                         dimension_name='activation')"
   ]
  },
  {
   "cell_type": "markdown",
   "metadata": {},
   "source": [
    "We can also make a landscape-plot of the estimated fitness values for two dimensions of the search-space, here taken to be `learning_rate` and `num_dense_layers`.\n",
    "\n",
    "The Bayesian optimizer works by building a surrogate model of the search-space and then searching this model instead of the real search-space, because it is much faster. The plot shows the last surrogate model built by the Bayesian optimizer where yellow regions are better and blue regions are worse. The black dots show where the optimizer has sampled the search-space and the red star shows the best parameters found.\n",
    "\n",
    "Several things should be noted here. Firstly, this surrogate model of the search-space may not be accurate. It is built from only 40 samples of calls to the `fitness()` function for training a neural network with a given choice of hyper-parameters. The modelled fitness landscape may differ significantly from its true values especially in regions of the search-space with few samples. Secondly, the plot may change each time the hyper-parameter optimization is run because of random noise in the training process of the neural network. Thirdly, this plot shows the effect of changing these two parameters `num_dense_layers` and `learning_rate` when averaged over all other dimensions in the search-space, this is also called a Partial Dependence plot and is a way of visualizing high-dimensional spaces in only 2-dimensions."
   ]
  },
  {
   "cell_type": "code",
   "execution_count": 38,
   "metadata": {
    "scrolled": true
   },
   "outputs": [
    {
     "ename": "TypeError",
     "evalue": "plot_objective_2D() got an unexpected keyword argument 'dimension_name1'",
     "output_type": "error",
     "traceback": [
      "\u001b[0;31m---------------------------------------------------------------------------\u001b[0m",
      "\u001b[0;31mTypeError\u001b[0m                                 Traceback (most recent call last)",
      "\u001b[0;32m<ipython-input-38-ed80cd0f861e>\u001b[0m in \u001b[0;36m<module>\u001b[0;34m\u001b[0m\n\u001b[1;32m      2\u001b[0m                         \u001b[0mdimension_name1\u001b[0m\u001b[0;34m=\u001b[0m\u001b[0;34m'learning_rate'\u001b[0m\u001b[0;34m,\u001b[0m\u001b[0;34m\u001b[0m\u001b[0;34m\u001b[0m\u001b[0m\n\u001b[1;32m      3\u001b[0m                         \u001b[0mdimension_name2\u001b[0m\u001b[0;34m=\u001b[0m\u001b[0;34m'num_dense_layers'\u001b[0m\u001b[0;34m,\u001b[0m\u001b[0;34m\u001b[0m\u001b[0;34m\u001b[0m\u001b[0m\n\u001b[0;32m----> 4\u001b[0;31m                         levels=50)\n\u001b[0m",
      "\u001b[0;31mTypeError\u001b[0m: plot_objective_2D() got an unexpected keyword argument 'dimension_name1'"
     ]
    }
   ],
   "source": [
    "fig = plot_objective_2D(result=search_result,\n",
    "                        dimension_name1='learning_rate',\n",
    "                        dimension_name2='num_dense_layers',\n",
    "                        levels=50)"
   ]
  },
  {
   "cell_type": "markdown",
   "metadata": {},
   "source": [
    "We cannot make a landscape plot for the `activation` hyper-parameter because it is a categorical variable that can be one of two strings `relu` or `sigmoid`. How this is encoded depends on the Bayesian optimizer, for example, whether it is using Gaussian Processes or Random Forests. But it cannot currently be plotted using the built-in functions of `skopt`.\n",
    "\n",
    "Instead we only want to use the real- and integer-valued dimensions of the search-space which we identify by their names."
   ]
  },
  {
   "cell_type": "code",
   "execution_count": 39,
   "metadata": {},
   "outputs": [],
   "source": [
    "dim_names = ['learning_rate', 'num_dense_nodes', 'num_dense_layers']"
   ]
  },
  {
   "cell_type": "markdown",
   "metadata": {},
   "source": [
    "We can then make a matrix-plot of all combinations of these dimensions.\n",
    "\n",
    "The diagonal shows the influence of a single dimension on the fitness. This is a so-called Partial Dependence plot for that dimension. It shows how the approximated fitness value changes with different values in that dimension.\n",
    "\n",
    "The plots below the diagonal show the Partial Dependence for two dimensions. This shows how the approximated fitness value changes when we are varying two dimensions simultaneously.\n",
    "\n",
    "These Partial Dependence plots are only approximations of the modelled fitness function - which in turn is only an approximation of the true fitness function in `fitness()`. This may be a bit difficult to understand. For example, the Partial Dependence is calculated by fixing one value for the `learning_rate` and then taking a large number of random samples for the remaining dimensions in the search-space. The estimated fitness for all these points is then averaged. This process is then repeated for other values of the `learning_rate` to show how it affects the fitness on average. A similar procedure is done for the plots that show the Partial Dependence plots for two dimensions."
   ]
  },
  {
   "cell_type": "code",
   "execution_count": 40,
   "metadata": {
    "scrolled": true
   },
   "outputs": [
    {
     "ename": "TypeError",
     "evalue": "plot_objective() got an unexpected keyword argument 'dimension_names'",
     "output_type": "error",
     "traceback": [
      "\u001b[0;31m---------------------------------------------------------------------------\u001b[0m",
      "\u001b[0;31mTypeError\u001b[0m                                 Traceback (most recent call last)",
      "\u001b[0;32m<ipython-input-40-ff19287ef8f7>\u001b[0m in \u001b[0;36m<module>\u001b[0;34m\u001b[0m\n\u001b[0;32m----> 1\u001b[0;31m \u001b[0mfig\u001b[0m\u001b[0;34m,\u001b[0m \u001b[0max\u001b[0m \u001b[0;34m=\u001b[0m \u001b[0mplot_objective\u001b[0m\u001b[0;34m(\u001b[0m\u001b[0mresult\u001b[0m\u001b[0;34m=\u001b[0m\u001b[0msearch_result\u001b[0m\u001b[0;34m,\u001b[0m \u001b[0mdimension_names\u001b[0m\u001b[0;34m=\u001b[0m\u001b[0mdim_names\u001b[0m\u001b[0;34m)\u001b[0m\u001b[0;34m\u001b[0m\u001b[0;34m\u001b[0m\u001b[0m\n\u001b[0m",
      "\u001b[0;31mTypeError\u001b[0m: plot_objective() got an unexpected keyword argument 'dimension_names'"
     ]
    }
   ],
   "source": [
    "fig, ax = plot_objective(result=search_result, dimension_names=dim_names)"
   ]
  },
  {
   "cell_type": "markdown",
   "metadata": {},
   "source": [
    "We can also show another type of matrix-plot. Here the diagonal shows histograms of the sample distributions for each of the hyper-parameters during the Bayesian optimization. The plots below the diagonal show the location of samples in the search-space and the colour-coding shows the order in which the samples were taken. For larger numbers of samples you will likely see that the samples eventually become concentrated in a certain region of the search-space."
   ]
  },
  {
   "cell_type": "code",
   "execution_count": null,
   "metadata": {
    "scrolled": true
   },
   "outputs": [],
   "source": [
    "fig, ax = plot_evaluations(result=search_result, dimension_names=dim_names)"
   ]
  },
  {
   "cell_type": "markdown",
   "metadata": {},
   "source": [
    "### Evaluate Best Model on Test-Set\n",
    "\n",
    "We can now use the best model on the test-set. It is very easy to reload the model using Keras."
   ]
  },
  {
   "cell_type": "code",
   "execution_count": 41,
   "metadata": {},
   "outputs": [],
   "source": [
    "model = load_model(path_best_model)"
   ]
  },
  {
   "cell_type": "markdown",
   "metadata": {},
   "source": [
    "We then evaluate its performance on the test-set."
   ]
  },
  {
   "cell_type": "code",
   "execution_count": 42,
   "metadata": {},
   "outputs": [
    {
     "name": "stdout",
     "output_type": "stream",
     "text": [
      "WARNING:tensorflow:Model was constructed with shape (None, 25) for input Tensor(\"layer_embedding_input:0\", shape=(None, 25), dtype=float32), but it was called on an input with incompatible shape (None, 784).\n"
     ]
    },
    {
     "ename": "ValueError",
     "evalue": "in user code:\n\n    /Users/mutecypher/anaconda3/lib/python3.7/site-packages/tensorflow/python/keras/engine/training.py:1224 test_function  *\n        return step_function(self, iterator)\n    /Users/mutecypher/anaconda3/lib/python3.7/site-packages/tensorflow/python/keras/engine/training.py:1215 step_function  **\n        outputs = model.distribute_strategy.run(run_step, args=(data,))\n    /Users/mutecypher/anaconda3/lib/python3.7/site-packages/tensorflow/python/distribute/distribute_lib.py:1211 run\n        return self._extended.call_for_each_replica(fn, args=args, kwargs=kwargs)\n    /Users/mutecypher/anaconda3/lib/python3.7/site-packages/tensorflow/python/distribute/distribute_lib.py:2585 call_for_each_replica\n        return self._call_for_each_replica(fn, args, kwargs)\n    /Users/mutecypher/anaconda3/lib/python3.7/site-packages/tensorflow/python/distribute/distribute_lib.py:2945 _call_for_each_replica\n        return fn(*args, **kwargs)\n    /Users/mutecypher/anaconda3/lib/python3.7/site-packages/tensorflow/python/keras/engine/training.py:1208 run_step  **\n        outputs = model.test_step(data)\n    /Users/mutecypher/anaconda3/lib/python3.7/site-packages/tensorflow/python/keras/engine/training.py:1177 test_step\n        y, y_pred, sample_weight, regularization_losses=self.losses)\n    /Users/mutecypher/anaconda3/lib/python3.7/site-packages/tensorflow/python/keras/engine/compile_utils.py:204 __call__\n        loss_value = loss_obj(y_t, y_p, sample_weight=sw)\n    /Users/mutecypher/anaconda3/lib/python3.7/site-packages/tensorflow/python/keras/losses.py:149 __call__\n        losses = ag_call(y_true, y_pred)\n    /Users/mutecypher/anaconda3/lib/python3.7/site-packages/tensorflow/python/keras/losses.py:253 call  **\n        return ag_fn(y_true, y_pred, **self._fn_kwargs)\n    /Users/mutecypher/anaconda3/lib/python3.7/site-packages/tensorflow/python/util/dispatch.py:201 wrapper\n        return target(*args, **kwargs)\n    /Users/mutecypher/anaconda3/lib/python3.7/site-packages/tensorflow/python/keras/losses.py:1535 categorical_crossentropy\n        return K.categorical_crossentropy(y_true, y_pred, from_logits=from_logits)\n    /Users/mutecypher/anaconda3/lib/python3.7/site-packages/tensorflow/python/util/dispatch.py:201 wrapper\n        return target(*args, **kwargs)\n    /Users/mutecypher/anaconda3/lib/python3.7/site-packages/tensorflow/python/keras/backend.py:4687 categorical_crossentropy\n        target.shape.assert_is_compatible_with(output.shape)\n    /Users/mutecypher/anaconda3/lib/python3.7/site-packages/tensorflow/python/framework/tensor_shape.py:1134 assert_is_compatible_with\n        raise ValueError(\"Shapes %s and %s are incompatible\" % (self, other))\n\n    ValueError: Shapes (None, 10) and (None, 3) are incompatible\n",
     "output_type": "error",
     "traceback": [
      "\u001b[0;31m---------------------------------------------------------------------------\u001b[0m",
      "\u001b[0;31mValueError\u001b[0m                                Traceback (most recent call last)",
      "\u001b[0;32m<ipython-input-42-dc4eef44001d>\u001b[0m in \u001b[0;36m<module>\u001b[0;34m\u001b[0m\n\u001b[1;32m      1\u001b[0m result = model.evaluate(x=data.x_test,\n\u001b[0;32m----> 2\u001b[0;31m                         y=data.y_test)\n\u001b[0m",
      "\u001b[0;32m~/anaconda3/lib/python3.7/site-packages/tensorflow/python/keras/engine/training.py\u001b[0m in \u001b[0;36m_method_wrapper\u001b[0;34m(self, *args, **kwargs)\u001b[0m\n\u001b[1;32m    106\u001b[0m   \u001b[0;32mdef\u001b[0m \u001b[0m_method_wrapper\u001b[0m\u001b[0;34m(\u001b[0m\u001b[0mself\u001b[0m\u001b[0;34m,\u001b[0m \u001b[0;34m*\u001b[0m\u001b[0margs\u001b[0m\u001b[0;34m,\u001b[0m \u001b[0;34m**\u001b[0m\u001b[0mkwargs\u001b[0m\u001b[0;34m)\u001b[0m\u001b[0;34m:\u001b[0m\u001b[0;34m\u001b[0m\u001b[0;34m\u001b[0m\u001b[0m\n\u001b[1;32m    107\u001b[0m     \u001b[0;32mif\u001b[0m \u001b[0;32mnot\u001b[0m \u001b[0mself\u001b[0m\u001b[0;34m.\u001b[0m\u001b[0m_in_multi_worker_mode\u001b[0m\u001b[0;34m(\u001b[0m\u001b[0;34m)\u001b[0m\u001b[0;34m:\u001b[0m  \u001b[0;31m# pylint: disable=protected-access\u001b[0m\u001b[0;34m\u001b[0m\u001b[0;34m\u001b[0m\u001b[0m\n\u001b[0;32m--> 108\u001b[0;31m       \u001b[0;32mreturn\u001b[0m \u001b[0mmethod\u001b[0m\u001b[0;34m(\u001b[0m\u001b[0mself\u001b[0m\u001b[0;34m,\u001b[0m \u001b[0;34m*\u001b[0m\u001b[0margs\u001b[0m\u001b[0;34m,\u001b[0m \u001b[0;34m**\u001b[0m\u001b[0mkwargs\u001b[0m\u001b[0;34m)\u001b[0m\u001b[0;34m\u001b[0m\u001b[0;34m\u001b[0m\u001b[0m\n\u001b[0m\u001b[1;32m    109\u001b[0m \u001b[0;34m\u001b[0m\u001b[0m\n\u001b[1;32m    110\u001b[0m     \u001b[0;31m# Running inside `run_distribute_coordinator` already.\u001b[0m\u001b[0;34m\u001b[0m\u001b[0;34m\u001b[0m\u001b[0;34m\u001b[0m\u001b[0m\n",
      "\u001b[0;32m~/anaconda3/lib/python3.7/site-packages/tensorflow/python/keras/engine/training.py\u001b[0m in \u001b[0;36mevaluate\u001b[0;34m(self, x, y, batch_size, verbose, sample_weight, steps, callbacks, max_queue_size, workers, use_multiprocessing, return_dict)\u001b[0m\n\u001b[1;32m   1377\u001b[0m             \u001b[0;32mwith\u001b[0m \u001b[0mtrace\u001b[0m\u001b[0;34m.\u001b[0m\u001b[0mTrace\u001b[0m\u001b[0;34m(\u001b[0m\u001b[0;34m'TraceContext'\u001b[0m\u001b[0;34m,\u001b[0m \u001b[0mgraph_type\u001b[0m\u001b[0;34m=\u001b[0m\u001b[0;34m'test'\u001b[0m\u001b[0;34m,\u001b[0m \u001b[0mstep_num\u001b[0m\u001b[0;34m=\u001b[0m\u001b[0mstep\u001b[0m\u001b[0;34m)\u001b[0m\u001b[0;34m:\u001b[0m\u001b[0;34m\u001b[0m\u001b[0;34m\u001b[0m\u001b[0m\n\u001b[1;32m   1378\u001b[0m               \u001b[0mcallbacks\u001b[0m\u001b[0;34m.\u001b[0m\u001b[0mon_test_batch_begin\u001b[0m\u001b[0;34m(\u001b[0m\u001b[0mstep\u001b[0m\u001b[0;34m)\u001b[0m\u001b[0;34m\u001b[0m\u001b[0;34m\u001b[0m\u001b[0m\n\u001b[0;32m-> 1379\u001b[0;31m               \u001b[0mtmp_logs\u001b[0m \u001b[0;34m=\u001b[0m \u001b[0mtest_function\u001b[0m\u001b[0;34m(\u001b[0m\u001b[0miterator\u001b[0m\u001b[0;34m)\u001b[0m\u001b[0;34m\u001b[0m\u001b[0;34m\u001b[0m\u001b[0m\n\u001b[0m\u001b[1;32m   1380\u001b[0m               \u001b[0;32mif\u001b[0m \u001b[0mdata_handler\u001b[0m\u001b[0;34m.\u001b[0m\u001b[0mshould_sync\u001b[0m\u001b[0;34m:\u001b[0m\u001b[0;34m\u001b[0m\u001b[0;34m\u001b[0m\u001b[0m\n\u001b[1;32m   1381\u001b[0m                 \u001b[0mcontext\u001b[0m\u001b[0;34m.\u001b[0m\u001b[0masync_wait\u001b[0m\u001b[0;34m(\u001b[0m\u001b[0;34m)\u001b[0m\u001b[0;34m\u001b[0m\u001b[0;34m\u001b[0m\u001b[0m\n",
      "\u001b[0;32m~/anaconda3/lib/python3.7/site-packages/tensorflow/python/eager/def_function.py\u001b[0m in \u001b[0;36m__call__\u001b[0;34m(self, *args, **kwds)\u001b[0m\n\u001b[1;32m    778\u001b[0m       \u001b[0;32melse\u001b[0m\u001b[0;34m:\u001b[0m\u001b[0;34m\u001b[0m\u001b[0;34m\u001b[0m\u001b[0m\n\u001b[1;32m    779\u001b[0m         \u001b[0mcompiler\u001b[0m \u001b[0;34m=\u001b[0m \u001b[0;34m\"nonXla\"\u001b[0m\u001b[0;34m\u001b[0m\u001b[0;34m\u001b[0m\u001b[0m\n\u001b[0;32m--> 780\u001b[0;31m         \u001b[0mresult\u001b[0m \u001b[0;34m=\u001b[0m \u001b[0mself\u001b[0m\u001b[0;34m.\u001b[0m\u001b[0m_call\u001b[0m\u001b[0;34m(\u001b[0m\u001b[0;34m*\u001b[0m\u001b[0margs\u001b[0m\u001b[0;34m,\u001b[0m \u001b[0;34m**\u001b[0m\u001b[0mkwds\u001b[0m\u001b[0;34m)\u001b[0m\u001b[0;34m\u001b[0m\u001b[0;34m\u001b[0m\u001b[0m\n\u001b[0m\u001b[1;32m    781\u001b[0m \u001b[0;34m\u001b[0m\u001b[0m\n\u001b[1;32m    782\u001b[0m       \u001b[0mnew_tracing_count\u001b[0m \u001b[0;34m=\u001b[0m \u001b[0mself\u001b[0m\u001b[0;34m.\u001b[0m\u001b[0m_get_tracing_count\u001b[0m\u001b[0;34m(\u001b[0m\u001b[0;34m)\u001b[0m\u001b[0;34m\u001b[0m\u001b[0;34m\u001b[0m\u001b[0m\n",
      "\u001b[0;32m~/anaconda3/lib/python3.7/site-packages/tensorflow/python/eager/def_function.py\u001b[0m in \u001b[0;36m_call\u001b[0;34m(self, *args, **kwds)\u001b[0m\n\u001b[1;32m    821\u001b[0m       \u001b[0;31m# This is the first call of __call__, so we have to initialize.\u001b[0m\u001b[0;34m\u001b[0m\u001b[0;34m\u001b[0m\u001b[0;34m\u001b[0m\u001b[0m\n\u001b[1;32m    822\u001b[0m       \u001b[0minitializers\u001b[0m \u001b[0;34m=\u001b[0m \u001b[0;34m[\u001b[0m\u001b[0;34m]\u001b[0m\u001b[0;34m\u001b[0m\u001b[0;34m\u001b[0m\u001b[0m\n\u001b[0;32m--> 823\u001b[0;31m       \u001b[0mself\u001b[0m\u001b[0;34m.\u001b[0m\u001b[0m_initialize\u001b[0m\u001b[0;34m(\u001b[0m\u001b[0margs\u001b[0m\u001b[0;34m,\u001b[0m \u001b[0mkwds\u001b[0m\u001b[0;34m,\u001b[0m \u001b[0madd_initializers_to\u001b[0m\u001b[0;34m=\u001b[0m\u001b[0minitializers\u001b[0m\u001b[0;34m)\u001b[0m\u001b[0;34m\u001b[0m\u001b[0;34m\u001b[0m\u001b[0m\n\u001b[0m\u001b[1;32m    824\u001b[0m     \u001b[0;32mfinally\u001b[0m\u001b[0;34m:\u001b[0m\u001b[0;34m\u001b[0m\u001b[0;34m\u001b[0m\u001b[0m\n\u001b[1;32m    825\u001b[0m       \u001b[0;31m# At this point we know that the initialization is complete (or less\u001b[0m\u001b[0;34m\u001b[0m\u001b[0;34m\u001b[0m\u001b[0;34m\u001b[0m\u001b[0m\n",
      "\u001b[0;32m~/anaconda3/lib/python3.7/site-packages/tensorflow/python/eager/def_function.py\u001b[0m in \u001b[0;36m_initialize\u001b[0;34m(self, args, kwds, add_initializers_to)\u001b[0m\n\u001b[1;32m    695\u001b[0m     self._concrete_stateful_fn = (\n\u001b[1;32m    696\u001b[0m         self._stateful_fn._get_concrete_function_internal_garbage_collected(  # pylint: disable=protected-access\n\u001b[0;32m--> 697\u001b[0;31m             *args, **kwds))\n\u001b[0m\u001b[1;32m    698\u001b[0m \u001b[0;34m\u001b[0m\u001b[0m\n\u001b[1;32m    699\u001b[0m     \u001b[0;32mdef\u001b[0m \u001b[0minvalid_creator_scope\u001b[0m\u001b[0;34m(\u001b[0m\u001b[0;34m*\u001b[0m\u001b[0munused_args\u001b[0m\u001b[0;34m,\u001b[0m \u001b[0;34m**\u001b[0m\u001b[0munused_kwds\u001b[0m\u001b[0;34m)\u001b[0m\u001b[0;34m:\u001b[0m\u001b[0;34m\u001b[0m\u001b[0;34m\u001b[0m\u001b[0m\n",
      "\u001b[0;32m~/anaconda3/lib/python3.7/site-packages/tensorflow/python/eager/function.py\u001b[0m in \u001b[0;36m_get_concrete_function_internal_garbage_collected\u001b[0;34m(self, *args, **kwargs)\u001b[0m\n\u001b[1;32m   2853\u001b[0m       \u001b[0margs\u001b[0m\u001b[0;34m,\u001b[0m \u001b[0mkwargs\u001b[0m \u001b[0;34m=\u001b[0m \u001b[0;32mNone\u001b[0m\u001b[0;34m,\u001b[0m \u001b[0;32mNone\u001b[0m\u001b[0;34m\u001b[0m\u001b[0;34m\u001b[0m\u001b[0m\n\u001b[1;32m   2854\u001b[0m     \u001b[0;32mwith\u001b[0m \u001b[0mself\u001b[0m\u001b[0;34m.\u001b[0m\u001b[0m_lock\u001b[0m\u001b[0;34m:\u001b[0m\u001b[0;34m\u001b[0m\u001b[0;34m\u001b[0m\u001b[0m\n\u001b[0;32m-> 2855\u001b[0;31m       \u001b[0mgraph_function\u001b[0m\u001b[0;34m,\u001b[0m \u001b[0m_\u001b[0m\u001b[0;34m,\u001b[0m \u001b[0m_\u001b[0m \u001b[0;34m=\u001b[0m \u001b[0mself\u001b[0m\u001b[0;34m.\u001b[0m\u001b[0m_maybe_define_function\u001b[0m\u001b[0;34m(\u001b[0m\u001b[0margs\u001b[0m\u001b[0;34m,\u001b[0m \u001b[0mkwargs\u001b[0m\u001b[0;34m)\u001b[0m\u001b[0;34m\u001b[0m\u001b[0;34m\u001b[0m\u001b[0m\n\u001b[0m\u001b[1;32m   2856\u001b[0m     \u001b[0;32mreturn\u001b[0m \u001b[0mgraph_function\u001b[0m\u001b[0;34m\u001b[0m\u001b[0;34m\u001b[0m\u001b[0m\n\u001b[1;32m   2857\u001b[0m \u001b[0;34m\u001b[0m\u001b[0m\n",
      "\u001b[0;32m~/anaconda3/lib/python3.7/site-packages/tensorflow/python/eager/function.py\u001b[0m in \u001b[0;36m_maybe_define_function\u001b[0;34m(self, args, kwargs)\u001b[0m\n\u001b[1;32m   3211\u001b[0m \u001b[0;34m\u001b[0m\u001b[0m\n\u001b[1;32m   3212\u001b[0m       \u001b[0mself\u001b[0m\u001b[0;34m.\u001b[0m\u001b[0m_function_cache\u001b[0m\u001b[0;34m.\u001b[0m\u001b[0mmissed\u001b[0m\u001b[0;34m.\u001b[0m\u001b[0madd\u001b[0m\u001b[0;34m(\u001b[0m\u001b[0mcall_context_key\u001b[0m\u001b[0;34m)\u001b[0m\u001b[0;34m\u001b[0m\u001b[0;34m\u001b[0m\u001b[0m\n\u001b[0;32m-> 3213\u001b[0;31m       \u001b[0mgraph_function\u001b[0m \u001b[0;34m=\u001b[0m \u001b[0mself\u001b[0m\u001b[0;34m.\u001b[0m\u001b[0m_create_graph_function\u001b[0m\u001b[0;34m(\u001b[0m\u001b[0margs\u001b[0m\u001b[0;34m,\u001b[0m \u001b[0mkwargs\u001b[0m\u001b[0;34m)\u001b[0m\u001b[0;34m\u001b[0m\u001b[0;34m\u001b[0m\u001b[0m\n\u001b[0m\u001b[1;32m   3214\u001b[0m       \u001b[0mself\u001b[0m\u001b[0;34m.\u001b[0m\u001b[0m_function_cache\u001b[0m\u001b[0;34m.\u001b[0m\u001b[0mprimary\u001b[0m\u001b[0;34m[\u001b[0m\u001b[0mcache_key\u001b[0m\u001b[0;34m]\u001b[0m \u001b[0;34m=\u001b[0m \u001b[0mgraph_function\u001b[0m\u001b[0;34m\u001b[0m\u001b[0;34m\u001b[0m\u001b[0m\n\u001b[1;32m   3215\u001b[0m       \u001b[0;32mreturn\u001b[0m \u001b[0mgraph_function\u001b[0m\u001b[0;34m,\u001b[0m \u001b[0margs\u001b[0m\u001b[0;34m,\u001b[0m \u001b[0mkwargs\u001b[0m\u001b[0;34m\u001b[0m\u001b[0;34m\u001b[0m\u001b[0m\n",
      "\u001b[0;32m~/anaconda3/lib/python3.7/site-packages/tensorflow/python/eager/function.py\u001b[0m in \u001b[0;36m_create_graph_function\u001b[0;34m(self, args, kwargs, override_flat_arg_shapes)\u001b[0m\n\u001b[1;32m   3073\u001b[0m             \u001b[0marg_names\u001b[0m\u001b[0;34m=\u001b[0m\u001b[0marg_names\u001b[0m\u001b[0;34m,\u001b[0m\u001b[0;34m\u001b[0m\u001b[0;34m\u001b[0m\u001b[0m\n\u001b[1;32m   3074\u001b[0m             \u001b[0moverride_flat_arg_shapes\u001b[0m\u001b[0;34m=\u001b[0m\u001b[0moverride_flat_arg_shapes\u001b[0m\u001b[0;34m,\u001b[0m\u001b[0;34m\u001b[0m\u001b[0;34m\u001b[0m\u001b[0m\n\u001b[0;32m-> 3075\u001b[0;31m             capture_by_value=self._capture_by_value),\n\u001b[0m\u001b[1;32m   3076\u001b[0m         \u001b[0mself\u001b[0m\u001b[0;34m.\u001b[0m\u001b[0m_function_attributes\u001b[0m\u001b[0;34m,\u001b[0m\u001b[0;34m\u001b[0m\u001b[0;34m\u001b[0m\u001b[0m\n\u001b[1;32m   3077\u001b[0m         \u001b[0mfunction_spec\u001b[0m\u001b[0;34m=\u001b[0m\u001b[0mself\u001b[0m\u001b[0;34m.\u001b[0m\u001b[0mfunction_spec\u001b[0m\u001b[0;34m,\u001b[0m\u001b[0;34m\u001b[0m\u001b[0;34m\u001b[0m\u001b[0m\n",
      "\u001b[0;32m~/anaconda3/lib/python3.7/site-packages/tensorflow/python/framework/func_graph.py\u001b[0m in \u001b[0;36mfunc_graph_from_py_func\u001b[0;34m(name, python_func, args, kwargs, signature, func_graph, autograph, autograph_options, add_control_dependencies, arg_names, op_return_value, collections, capture_by_value, override_flat_arg_shapes)\u001b[0m\n\u001b[1;32m    984\u001b[0m         \u001b[0m_\u001b[0m\u001b[0;34m,\u001b[0m \u001b[0moriginal_func\u001b[0m \u001b[0;34m=\u001b[0m \u001b[0mtf_decorator\u001b[0m\u001b[0;34m.\u001b[0m\u001b[0munwrap\u001b[0m\u001b[0;34m(\u001b[0m\u001b[0mpython_func\u001b[0m\u001b[0;34m)\u001b[0m\u001b[0;34m\u001b[0m\u001b[0;34m\u001b[0m\u001b[0m\n\u001b[1;32m    985\u001b[0m \u001b[0;34m\u001b[0m\u001b[0m\n\u001b[0;32m--> 986\u001b[0;31m       \u001b[0mfunc_outputs\u001b[0m \u001b[0;34m=\u001b[0m \u001b[0mpython_func\u001b[0m\u001b[0;34m(\u001b[0m\u001b[0;34m*\u001b[0m\u001b[0mfunc_args\u001b[0m\u001b[0;34m,\u001b[0m \u001b[0;34m**\u001b[0m\u001b[0mfunc_kwargs\u001b[0m\u001b[0;34m)\u001b[0m\u001b[0;34m\u001b[0m\u001b[0;34m\u001b[0m\u001b[0m\n\u001b[0m\u001b[1;32m    987\u001b[0m \u001b[0;34m\u001b[0m\u001b[0m\n\u001b[1;32m    988\u001b[0m       \u001b[0;31m# invariant: `func_outputs` contains only Tensors, CompositeTensors,\u001b[0m\u001b[0;34m\u001b[0m\u001b[0;34m\u001b[0m\u001b[0;34m\u001b[0m\u001b[0m\n",
      "\u001b[0;32m~/anaconda3/lib/python3.7/site-packages/tensorflow/python/eager/def_function.py\u001b[0m in \u001b[0;36mwrapped_fn\u001b[0;34m(*args, **kwds)\u001b[0m\n\u001b[1;32m    598\u001b[0m         \u001b[0;31m# __wrapped__ allows AutoGraph to swap in a converted function. We give\u001b[0m\u001b[0;34m\u001b[0m\u001b[0;34m\u001b[0m\u001b[0;34m\u001b[0m\u001b[0m\n\u001b[1;32m    599\u001b[0m         \u001b[0;31m# the function a weak reference to itself to avoid a reference cycle.\u001b[0m\u001b[0;34m\u001b[0m\u001b[0;34m\u001b[0m\u001b[0;34m\u001b[0m\u001b[0m\n\u001b[0;32m--> 600\u001b[0;31m         \u001b[0;32mreturn\u001b[0m \u001b[0mweak_wrapped_fn\u001b[0m\u001b[0;34m(\u001b[0m\u001b[0;34m)\u001b[0m\u001b[0;34m.\u001b[0m\u001b[0m__wrapped__\u001b[0m\u001b[0;34m(\u001b[0m\u001b[0;34m*\u001b[0m\u001b[0margs\u001b[0m\u001b[0;34m,\u001b[0m \u001b[0;34m**\u001b[0m\u001b[0mkwds\u001b[0m\u001b[0;34m)\u001b[0m\u001b[0;34m\u001b[0m\u001b[0;34m\u001b[0m\u001b[0m\n\u001b[0m\u001b[1;32m    601\u001b[0m     \u001b[0mweak_wrapped_fn\u001b[0m \u001b[0;34m=\u001b[0m \u001b[0mweakref\u001b[0m\u001b[0;34m.\u001b[0m\u001b[0mref\u001b[0m\u001b[0;34m(\u001b[0m\u001b[0mwrapped_fn\u001b[0m\u001b[0;34m)\u001b[0m\u001b[0;34m\u001b[0m\u001b[0;34m\u001b[0m\u001b[0m\n\u001b[1;32m    602\u001b[0m \u001b[0;34m\u001b[0m\u001b[0m\n",
      "\u001b[0;32m~/anaconda3/lib/python3.7/site-packages/tensorflow/python/framework/func_graph.py\u001b[0m in \u001b[0;36mwrapper\u001b[0;34m(*args, **kwargs)\u001b[0m\n\u001b[1;32m    971\u001b[0m           \u001b[0;32mexcept\u001b[0m \u001b[0mException\u001b[0m \u001b[0;32mas\u001b[0m \u001b[0me\u001b[0m\u001b[0;34m:\u001b[0m  \u001b[0;31m# pylint:disable=broad-except\u001b[0m\u001b[0;34m\u001b[0m\u001b[0;34m\u001b[0m\u001b[0m\n\u001b[1;32m    972\u001b[0m             \u001b[0;32mif\u001b[0m \u001b[0mhasattr\u001b[0m\u001b[0;34m(\u001b[0m\u001b[0me\u001b[0m\u001b[0;34m,\u001b[0m \u001b[0;34m\"ag_error_metadata\"\u001b[0m\u001b[0;34m)\u001b[0m\u001b[0;34m:\u001b[0m\u001b[0;34m\u001b[0m\u001b[0;34m\u001b[0m\u001b[0m\n\u001b[0;32m--> 973\u001b[0;31m               \u001b[0;32mraise\u001b[0m \u001b[0me\u001b[0m\u001b[0;34m.\u001b[0m\u001b[0mag_error_metadata\u001b[0m\u001b[0;34m.\u001b[0m\u001b[0mto_exception\u001b[0m\u001b[0;34m(\u001b[0m\u001b[0me\u001b[0m\u001b[0;34m)\u001b[0m\u001b[0;34m\u001b[0m\u001b[0;34m\u001b[0m\u001b[0m\n\u001b[0m\u001b[1;32m    974\u001b[0m             \u001b[0;32melse\u001b[0m\u001b[0;34m:\u001b[0m\u001b[0;34m\u001b[0m\u001b[0;34m\u001b[0m\u001b[0m\n\u001b[1;32m    975\u001b[0m               \u001b[0;32mraise\u001b[0m\u001b[0;34m\u001b[0m\u001b[0;34m\u001b[0m\u001b[0m\n",
      "\u001b[0;31mValueError\u001b[0m: in user code:\n\n    /Users/mutecypher/anaconda3/lib/python3.7/site-packages/tensorflow/python/keras/engine/training.py:1224 test_function  *\n        return step_function(self, iterator)\n    /Users/mutecypher/anaconda3/lib/python3.7/site-packages/tensorflow/python/keras/engine/training.py:1215 step_function  **\n        outputs = model.distribute_strategy.run(run_step, args=(data,))\n    /Users/mutecypher/anaconda3/lib/python3.7/site-packages/tensorflow/python/distribute/distribute_lib.py:1211 run\n        return self._extended.call_for_each_replica(fn, args=args, kwargs=kwargs)\n    /Users/mutecypher/anaconda3/lib/python3.7/site-packages/tensorflow/python/distribute/distribute_lib.py:2585 call_for_each_replica\n        return self._call_for_each_replica(fn, args, kwargs)\n    /Users/mutecypher/anaconda3/lib/python3.7/site-packages/tensorflow/python/distribute/distribute_lib.py:2945 _call_for_each_replica\n        return fn(*args, **kwargs)\n    /Users/mutecypher/anaconda3/lib/python3.7/site-packages/tensorflow/python/keras/engine/training.py:1208 run_step  **\n        outputs = model.test_step(data)\n    /Users/mutecypher/anaconda3/lib/python3.7/site-packages/tensorflow/python/keras/engine/training.py:1177 test_step\n        y, y_pred, sample_weight, regularization_losses=self.losses)\n    /Users/mutecypher/anaconda3/lib/python3.7/site-packages/tensorflow/python/keras/engine/compile_utils.py:204 __call__\n        loss_value = loss_obj(y_t, y_p, sample_weight=sw)\n    /Users/mutecypher/anaconda3/lib/python3.7/site-packages/tensorflow/python/keras/losses.py:149 __call__\n        losses = ag_call(y_true, y_pred)\n    /Users/mutecypher/anaconda3/lib/python3.7/site-packages/tensorflow/python/keras/losses.py:253 call  **\n        return ag_fn(y_true, y_pred, **self._fn_kwargs)\n    /Users/mutecypher/anaconda3/lib/python3.7/site-packages/tensorflow/python/util/dispatch.py:201 wrapper\n        return target(*args, **kwargs)\n    /Users/mutecypher/anaconda3/lib/python3.7/site-packages/tensorflow/python/keras/losses.py:1535 categorical_crossentropy\n        return K.categorical_crossentropy(y_true, y_pred, from_logits=from_logits)\n    /Users/mutecypher/anaconda3/lib/python3.7/site-packages/tensorflow/python/util/dispatch.py:201 wrapper\n        return target(*args, **kwargs)\n    /Users/mutecypher/anaconda3/lib/python3.7/site-packages/tensorflow/python/keras/backend.py:4687 categorical_crossentropy\n        target.shape.assert_is_compatible_with(output.shape)\n    /Users/mutecypher/anaconda3/lib/python3.7/site-packages/tensorflow/python/framework/tensor_shape.py:1134 assert_is_compatible_with\n        raise ValueError(\"Shapes %s and %s are incompatible\" % (self, other))\n\n    ValueError: Shapes (None, 10) and (None, 3) are incompatible\n"
     ]
    }
   ],
   "source": [
    "result = model.evaluate(x=data.x_test,\n",
    "                        y=data.y_test)"
   ]
  },
  {
   "cell_type": "markdown",
   "metadata": {},
   "source": [
    "We can print all the performance metrics for the test-set."
   ]
  },
  {
   "cell_type": "code",
   "execution_count": 43,
   "metadata": {},
   "outputs": [
    {
     "ename": "NameError",
     "evalue": "name 'result' is not defined",
     "output_type": "error",
     "traceback": [
      "\u001b[0;31m---------------------------------------------------------------------------\u001b[0m",
      "\u001b[0;31mNameError\u001b[0m                                 Traceback (most recent call last)",
      "\u001b[0;32m<ipython-input-43-e018639f5f6b>\u001b[0m in \u001b[0;36m<module>\u001b[0;34m\u001b[0m\n\u001b[0;32m----> 1\u001b[0;31m \u001b[0;32mfor\u001b[0m \u001b[0mname\u001b[0m\u001b[0;34m,\u001b[0m \u001b[0mvalue\u001b[0m \u001b[0;32min\u001b[0m \u001b[0mzip\u001b[0m\u001b[0;34m(\u001b[0m\u001b[0mmodel\u001b[0m\u001b[0;34m.\u001b[0m\u001b[0mmetrics_names\u001b[0m\u001b[0;34m,\u001b[0m \u001b[0mresult\u001b[0m\u001b[0;34m)\u001b[0m\u001b[0;34m:\u001b[0m\u001b[0;34m\u001b[0m\u001b[0;34m\u001b[0m\u001b[0m\n\u001b[0m\u001b[1;32m      2\u001b[0m     \u001b[0mprint\u001b[0m\u001b[0;34m(\u001b[0m\u001b[0mname\u001b[0m\u001b[0;34m,\u001b[0m \u001b[0mvalue\u001b[0m\u001b[0;34m)\u001b[0m\u001b[0;34m\u001b[0m\u001b[0;34m\u001b[0m\u001b[0m\n",
      "\u001b[0;31mNameError\u001b[0m: name 'result' is not defined"
     ]
    }
   ],
   "source": [
    "for name, value in zip(model.metrics_names, result):\n",
    "    print(name, value)"
   ]
  },
  {
   "cell_type": "markdown",
   "metadata": {},
   "source": [
    "Or we can just print the classification accuracy."
   ]
  },
  {
   "cell_type": "code",
   "execution_count": null,
   "metadata": {},
   "outputs": [],
   "source": [
    "print(\"{0}: {1:.2%}\".format(model.metrics_names[1], result[1]))"
   ]
  },
  {
   "cell_type": "markdown",
   "metadata": {},
   "source": [
    "### Predict on New Data\n",
    "\n",
    "We can also predict the classification for new images. We will just use some images from the test-set but you could load your own images into numpy arrays and use those instead."
   ]
  },
  {
   "cell_type": "code",
   "execution_count": null,
   "metadata": {},
   "outputs": [],
   "source": [
    "images = data.x_test[0:9]"
   ]
  },
  {
   "cell_type": "markdown",
   "metadata": {},
   "source": [
    "These are the true class-number for those images. This is only used when plotting the images."
   ]
  },
  {
   "cell_type": "code",
   "execution_count": null,
   "metadata": {},
   "outputs": [],
   "source": [
    "cls_true = data.y_test_cls[0:9]"
   ]
  },
  {
   "cell_type": "markdown",
   "metadata": {},
   "source": [
    "Get the predicted classes as One-Hot encoded arrays."
   ]
  },
  {
   "cell_type": "code",
   "execution_count": null,
   "metadata": {},
   "outputs": [],
   "source": [
    "y_pred = model.predict(x=images)"
   ]
  },
  {
   "cell_type": "markdown",
   "metadata": {},
   "source": [
    "Get the predicted classes as integers."
   ]
  },
  {
   "cell_type": "code",
   "execution_count": null,
   "metadata": {},
   "outputs": [],
   "source": [
    "cls_pred = np.argmax(y_pred,axis=1)"
   ]
  },
  {
   "cell_type": "code",
   "execution_count": null,
   "metadata": {},
   "outputs": [],
   "source": [
    "plot_images(images=images,\n",
    "            cls_true=cls_true,\n",
    "            cls_pred=cls_pred)"
   ]
  },
  {
   "cell_type": "markdown",
   "metadata": {},
   "source": [
    "### Examples of Mis-Classified Images\n",
    "\n",
    "We can plot some examples of mis-classified images from the test-set.\n",
    "\n",
    "First we get the predicted classes for all the images in the test-set:"
   ]
  },
  {
   "cell_type": "code",
   "execution_count": null,
   "metadata": {},
   "outputs": [],
   "source": [
    "y_pred = model.predict(x=data.x_test)"
   ]
  },
  {
   "cell_type": "markdown",
   "metadata": {},
   "source": [
    "Then we convert the predicted class-numbers from One-Hot encoded arrays to integers."
   ]
  },
  {
   "cell_type": "code",
   "execution_count": null,
   "metadata": {},
   "outputs": [],
   "source": [
    "cls_pred = np.argmax(y_pred, axis=1)"
   ]
  },
  {
   "cell_type": "markdown",
   "metadata": {},
   "source": [
    "Plot some of the mis-classified images."
   ]
  },
  {
   "cell_type": "code",
   "execution_count": null,
   "metadata": {},
   "outputs": [],
   "source": [
    "plot_example_errors(cls_pred)"
   ]
  },
  {
   "cell_type": "markdown",
   "metadata": {},
   "source": [
    "## Conclusion\n",
    "\n",
    "This tutorial showed how to optimize the hyper-parameters of a neural network using Bayesian optimization. We used the scikit-optimize (`skopt`) library which is still under development, but it is already an extremely powerful tool. It was able to substantially improve on hand-tuned hyper-parameters in a small number of iterations. This is vastly superior to Grid Search and Random Search of the hyper-parameters, which would require far more computational time, and would most likely find inferior hyper-parameters, especially for more difficult problems."
   ]
  },
  {
   "cell_type": "markdown",
   "metadata": {},
   "source": [
    "## Exercises\n",
    "\n",
    "These are a few suggestions for exercises that may help improve your skills with TensorFlow. It is important to get hands-on experience with TensorFlow in order to learn how to use it properly.\n",
    "\n",
    "You may want to backup this Notebook before making any changes.\n",
    "\n",
    "* Try and run 100 or 200 iterations of the optimization instead of just 40 iterations. What happens to the plotted landscapes?\n",
    "* Try some of the other optimization methods from scikit-optimize such as `forest_minimize` instead of `gp_minimize`. How do they perform?\n",
    "* Try using another acquisition function for the optimizer e.g. Probability of Improvement.\n",
    "* Try optimizing more hyper-parameters with the Bayesian optimization. For example, the kernel-size and number of filters in the convolutional-layers, or the batch-size used in training.\n",
    "* Add a hyper-parameter for the number of convolutional layers and implement it in `create_model()`. Note that if you have pooling-layers after the convolution then the images are downsampled, so there is a limit to the number of layers you can have before the images become too small.\n",
    "* Look at the plots. Do you think that some of the hyper-parameters may be irrelevant? Try and remove these parameters and redo the optimization of the remaining hyper-parameters.\n",
    "* Use another and more difficult dataset with image-files.\n",
    "* Train for more epochs. Does it improve the classification accuracy on the validiation- and test-sets? How does it affect the time-usage?\n",
    "* Explain to a friend how the program works."
   ]
  },
  {
   "cell_type": "markdown",
   "metadata": {},
   "source": [
    "## License (MIT)\n",
    "\n",
    "Copyright (c) 2016-2018 by [Magnus Erik Hvass Pedersen](http://www.hvass-labs.org/)\n",
    "\n",
    "Permission is hereby granted, free of charge, to any person obtaining a copy of this software and associated documentation files (the \"Software\"), to deal in the Software without restriction, including without limitation the rights to use, copy, modify, merge, publish, distribute, sublicense, and/or sell copies of the Software, and to permit persons to whom the Software is furnished to do so, subject to the following conditions:\n",
    "\n",
    "The above copyright notice and this permission notice shall be included in all copies or substantial portions of the Software.\n",
    "\n",
    "THE SOFTWARE IS PROVIDED \"AS IS\", WITHOUT WARRANTY OF ANY KIND, EXPRESS OR IMPLIED, INCLUDING BUT NOT LIMITED TO THE WARRANTIES OF MERCHANTABILITY, FITNESS FOR A PARTICULAR PURPOSE AND NONINFRINGEMENT. IN NO EVENT SHALL THE AUTHORS OR COPYRIGHT HOLDERS BE LIABLE FOR ANY CLAIM, DAMAGES OR OTHER LIABILITY, WHETHER IN AN ACTION OF CONTRACT, TORT OR OTHERWISE, ARISING FROM, OUT OF OR IN CONNECTION WITH THE SOFTWARE OR THE USE OR OTHER DEALINGS IN THE SOFTWARE."
   ]
  }
 ],
 "metadata": {
  "anaconda-cloud": {},
  "kernelspec": {
   "display_name": "Python 3",
   "language": "python",
   "name": "python3"
  },
  "language_info": {
   "codemirror_mode": {
    "name": "ipython",
    "version": 3
   },
   "file_extension": ".py",
   "mimetype": "text/x-python",
   "name": "python",
   "nbconvert_exporter": "python",
   "pygments_lexer": "ipython3",
   "version": "3.7.7"
  }
 },
 "nbformat": 4,
 "nbformat_minor": 1
}
